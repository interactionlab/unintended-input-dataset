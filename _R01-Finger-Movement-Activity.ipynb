{
 "cells": [
  {
   "cell_type": "code",
   "execution_count": 1,
   "metadata": {},
   "outputs": [
    {
     "name": "stderr",
     "output_type": "stream",
     "text": [
      "Registered S3 methods overwritten by 'lme4':\n",
      "  method                          from\n",
      "  cooks.distance.influence.merMod car \n",
      "  influence.merMod                car \n",
      "  dfbeta.influence.merMod         car \n",
      "  dfbetas.influence.merMod        car \n",
      "\n",
      "Loading required package: carData\n",
      "\n",
      "Loading required package: multcomp\n",
      "\n",
      "Loading required package: mvtnorm\n",
      "\n",
      "Loading required package: survival\n",
      "\n",
      "Loading required package: TH.data\n",
      "\n",
      "Loading required package: MASS\n",
      "\n",
      "\n",
      "Attaching package: ‘TH.data’\n",
      "\n",
      "\n",
      "The following object is masked from ‘package:MASS’:\n",
      "\n",
      "    geyser\n",
      "\n",
      "\n"
     ]
    }
   ],
   "source": [
    "library(ez)\n",
    "library(car)\n",
    "library(nlme)\n",
    "require(multcomp)\n",
    "library(phia)"
   ]
  },
  {
   "cell_type": "code",
   "execution_count": 2,
   "metadata": {},
   "outputs": [],
   "source": [
    "df = read.csv(\"./out/speeds.csv\")"
   ]
  },
  {
   "cell_type": "code",
   "execution_count": 3,
   "metadata": {},
   "outputs": [],
   "source": [
    "# We are interested in the grip area which are caused by the fingers on the back. \n",
    "# Thus, we exclude the thumb in our ANOVAs. \n",
    "df = df[df$Finger != \"Thumb_Fn\",]"
   ]
  },
  {
   "cell_type": "code",
   "execution_count": 4,
   "metadata": {},
   "outputs": [
    {
     "data": {
      "text/plain": [
       "      Cond           Finger         PId        Phone        Speed_2D    \n",
       " seated :256   Index_Fn :128   Min.   : 3.00   N6 :128   Min.   :0.368  \n",
       " walking:256   Little_Fn:128   1st Qu.: 6.75   OPO:128   1st Qu.:1.042  \n",
       "               Middle_Fn:128   Median :11.50   S3 :128   Median :1.419  \n",
       "               Ring_Fn  :128   Mean   :11.62   S4 :128   Mean   :1.673  \n",
       "               Thumb_Fn :  0   3rd Qu.:16.25             3rd Qu.:1.981  \n",
       "                               Max.   :21.00             Max.   :5.602  "
      ]
     },
     "metadata": {},
     "output_type": "display_data"
    }
   ],
   "source": [
    "summary(df)"
   ]
  },
  {
   "cell_type": "code",
   "execution_count": 5,
   "metadata": {},
   "outputs": [],
   "source": [
    "df$Finger <- factor(df$Finger)\n",
    "df$Cond <- factor(df$Cond)\n",
    "df$Phone <- factor(df$Phone)\n",
    "df$PId <- factor(df$PId)"
   ]
  },
  {
   "cell_type": "markdown",
   "metadata": {},
   "source": [
    "# ANOVA on all Speeds"
   ]
  },
  {
   "cell_type": "code",
   "execution_count": 6,
   "metadata": {},
   "outputs": [
    {
     "data": {
      "text/html": [
       "<dl>\n",
       "\t<dt>$ANOVA</dt>\n",
       "\t\t<dd><table>\n",
       "<caption>A data.frame: 7 × 7</caption>\n",
       "<thead>\n",
       "\t<tr><th></th><th scope=col>Effect</th><th scope=col>DFn</th><th scope=col>DFd</th><th scope=col>F</th><th scope=col>p</th><th scope=col>p&lt;.05</th><th scope=col>ges</th></tr>\n",
       "\t<tr><th></th><th scope=col>&lt;chr&gt;</th><th scope=col>&lt;dbl&gt;</th><th scope=col>&lt;dbl&gt;</th><th scope=col>&lt;dbl&gt;</th><th scope=col>&lt;dbl&gt;</th><th scope=col>&lt;chr&gt;</th><th scope=col>&lt;dbl&gt;</th></tr>\n",
       "</thead>\n",
       "<tbody>\n",
       "\t<tr><th scope=row>2</th><td>Finger           </td><td>3</td><td> 45</td><td>136.205401</td><td>1.367086e-22</td><td>*</td><td>0.38248888</td></tr>\n",
       "\t<tr><th scope=row>3</th><td>Phone            </td><td>3</td><td> 45</td><td> 46.250327</td><td>8.506747e-14</td><td>*</td><td>0.43580697</td></tr>\n",
       "\t<tr><th scope=row>4</th><td>Cond             </td><td>1</td><td> 15</td><td>412.273795</td><td>2.534452e-12</td><td>*</td><td>0.62334249</td></tr>\n",
       "\t<tr><th scope=row>5</th><td>Finger:Phone     </td><td>9</td><td>135</td><td> 19.558041</td><td>1.181894e-20</td><td>*</td><td>0.04935845</td></tr>\n",
       "\t<tr><th scope=row>6</th><td>Finger:Cond      </td><td>3</td><td> 45</td><td>127.330478</td><td>5.314120e-22</td><td>*</td><td>0.10415080</td></tr>\n",
       "\t<tr><th scope=row>7</th><td>Phone:Cond       </td><td>3</td><td> 45</td><td> 19.477115</td><td>3.063633e-08</td><td>*</td><td>0.28333166</td></tr>\n",
       "\t<tr><th scope=row>8</th><td>Finger:Phone:Cond</td><td>9</td><td>135</td><td>  9.450177</td><td>4.514161e-11</td><td>*</td><td>0.02346037</td></tr>\n",
       "</tbody>\n",
       "</table>\n",
       "</dd>\n",
       "\t<dt>$`Mauchly's Test for Sphericity`</dt>\n",
       "\t\t<dd><table>\n",
       "<caption>A data.frame: 6 × 4</caption>\n",
       "<thead>\n",
       "\t<tr><th></th><th scope=col>Effect</th><th scope=col>W</th><th scope=col>p</th><th scope=col>p&lt;.05</th></tr>\n",
       "\t<tr><th></th><th scope=col>&lt;chr&gt;</th><th scope=col>&lt;dbl&gt;</th><th scope=col>&lt;dbl&gt;</th><th scope=col>&lt;chr&gt;</th></tr>\n",
       "</thead>\n",
       "<tbody>\n",
       "\t<tr><th scope=row>2</th><td>Finger           </td><td>3.088756e-01</td><td>6.751039e-03</td><td>*</td></tr>\n",
       "\t<tr><th scope=row>3</th><td>Phone            </td><td>5.311440e-01</td><td>1.238795e-01</td><td> </td></tr>\n",
       "\t<tr><th scope=row>5</th><td>Finger:Phone     </td><td>3.241307e-05</td><td>1.084135e-08</td><td>*</td></tr>\n",
       "\t<tr><th scope=row>6</th><td>Finger:Cond      </td><td>1.686756e-01</td><td>1.948340e-04</td><td>*</td></tr>\n",
       "\t<tr><th scope=row>7</th><td>Phone:Cond       </td><td>4.480127e-01</td><td>5.196669e-02</td><td> </td></tr>\n",
       "\t<tr><th scope=row>8</th><td>Finger:Phone:Cond</td><td>1.426636e-05</td><td>4.657538e-10</td><td>*</td></tr>\n",
       "</tbody>\n",
       "</table>\n",
       "</dd>\n",
       "\t<dt>$`Sphericity Corrections`</dt>\n",
       "\t\t<dd><table>\n",
       "<caption>A data.frame: 6 × 7</caption>\n",
       "<thead>\n",
       "\t<tr><th></th><th scope=col>Effect</th><th scope=col>GGe</th><th scope=col>p[GG]</th><th scope=col>p[GG]&lt;.05</th><th scope=col>HFe</th><th scope=col>p[HF]</th><th scope=col>p[HF]&lt;.05</th></tr>\n",
       "\t<tr><th></th><th scope=col>&lt;chr&gt;</th><th scope=col>&lt;dbl&gt;</th><th scope=col>&lt;dbl&gt;</th><th scope=col>&lt;chr&gt;</th><th scope=col>&lt;dbl&gt;</th><th scope=col>&lt;dbl&gt;</th><th scope=col>&lt;chr&gt;</th></tr>\n",
       "</thead>\n",
       "<tbody>\n",
       "\t<tr><th scope=row>2</th><td>Finger           </td><td>0.5921593</td><td>2.983803e-14</td><td>*</td><td>0.6660769</td><td>9.118792e-16</td><td>*</td></tr>\n",
       "\t<tr><th scope=row>3</th><td>Phone            </td><td>0.7608042</td><td>5.361907e-11</td><td>*</td><td>0.9047471</td><td>1.104729e-12</td><td>*</td></tr>\n",
       "\t<tr><th scope=row>5</th><td>Finger:Phone     </td><td>0.3250199</td><td>4.169457e-08</td><td>*</td><td>0.4122708</td><td>9.612063e-10</td><td>*</td></tr>\n",
       "\t<tr><th scope=row>6</th><td>Finger:Cond      </td><td>0.5231882</td><td>1.585079e-12</td><td>*</td><td>0.5736482</td><td>1.562808e-13</td><td>*</td></tr>\n",
       "\t<tr><th scope=row>7</th><td>Phone:Cond       </td><td>0.7283719</td><td>1.546550e-06</td><td>*</td><td>0.8573845</td><td>2.391914e-07</td><td>*</td></tr>\n",
       "\t<tr><th scope=row>8</th><td>Finger:Phone:Cond</td><td>0.3009383</td><td>1.182662e-04</td><td>*</td><td>0.3736541</td><td>2.467740e-05</td><td>*</td></tr>\n",
       "</tbody>\n",
       "</table>\n",
       "</dd>\n",
       "</dl>\n"
      ],
      "text/latex": [
       "\\begin{description}\n",
       "\\item[\\$ANOVA] A data.frame: 7 × 7\n",
       "\\begin{tabular}{r|lllllll}\n",
       "  & Effect & DFn & DFd & F & p & p<.05 & ges\\\\\n",
       "  & <chr> & <dbl> & <dbl> & <dbl> & <dbl> & <chr> & <dbl>\\\\\n",
       "\\hline\n",
       "\t2 & Finger            & 3 &  45 & 136.205401 & 1.367086e-22 & * & 0.38248888\\\\\n",
       "\t3 & Phone             & 3 &  45 &  46.250327 & 8.506747e-14 & * & 0.43580697\\\\\n",
       "\t4 & Cond              & 1 &  15 & 412.273795 & 2.534452e-12 & * & 0.62334249\\\\\n",
       "\t5 & Finger:Phone      & 9 & 135 &  19.558041 & 1.181894e-20 & * & 0.04935845\\\\\n",
       "\t6 & Finger:Cond       & 3 &  45 & 127.330478 & 5.314120e-22 & * & 0.10415080\\\\\n",
       "\t7 & Phone:Cond        & 3 &  45 &  19.477115 & 3.063633e-08 & * & 0.28333166\\\\\n",
       "\t8 & Finger:Phone:Cond & 9 & 135 &   9.450177 & 4.514161e-11 & * & 0.02346037\\\\\n",
       "\\end{tabular}\n",
       "\n",
       "\\item[\\$`Mauchly's Test for Sphericity`] A data.frame: 6 × 4\n",
       "\\begin{tabular}{r|llll}\n",
       "  & Effect & W & p & p<.05\\\\\n",
       "  & <chr> & <dbl> & <dbl> & <chr>\\\\\n",
       "\\hline\n",
       "\t2 & Finger            & 3.088756e-01 & 6.751039e-03 & *\\\\\n",
       "\t3 & Phone             & 5.311440e-01 & 1.238795e-01 &  \\\\\n",
       "\t5 & Finger:Phone      & 3.241307e-05 & 1.084135e-08 & *\\\\\n",
       "\t6 & Finger:Cond       & 1.686756e-01 & 1.948340e-04 & *\\\\\n",
       "\t7 & Phone:Cond        & 4.480127e-01 & 5.196669e-02 &  \\\\\n",
       "\t8 & Finger:Phone:Cond & 1.426636e-05 & 4.657538e-10 & *\\\\\n",
       "\\end{tabular}\n",
       "\n",
       "\\item[\\$`Sphericity Corrections`] A data.frame: 6 × 7\n",
       "\\begin{tabular}{r|lllllll}\n",
       "  & Effect & GGe & p{[}GG{]} & p{[}GG{]}<.05 & HFe & p{[}HF{]} & p{[}HF{]}<.05\\\\\n",
       "  & <chr> & <dbl> & <dbl> & <chr> & <dbl> & <dbl> & <chr>\\\\\n",
       "\\hline\n",
       "\t2 & Finger            & 0.5921593 & 2.983803e-14 & * & 0.6660769 & 9.118792e-16 & *\\\\\n",
       "\t3 & Phone             & 0.7608042 & 5.361907e-11 & * & 0.9047471 & 1.104729e-12 & *\\\\\n",
       "\t5 & Finger:Phone      & 0.3250199 & 4.169457e-08 & * & 0.4122708 & 9.612063e-10 & *\\\\\n",
       "\t6 & Finger:Cond       & 0.5231882 & 1.585079e-12 & * & 0.5736482 & 1.562808e-13 & *\\\\\n",
       "\t7 & Phone:Cond        & 0.7283719 & 1.546550e-06 & * & 0.8573845 & 2.391914e-07 & *\\\\\n",
       "\t8 & Finger:Phone:Cond & 0.3009383 & 1.182662e-04 & * & 0.3736541 & 2.467740e-05 & *\\\\\n",
       "\\end{tabular}\n",
       "\n",
       "\\end{description}\n"
      ],
      "text/markdown": [
       "$ANOVA\n",
       ":   \n",
       "A data.frame: 7 × 7\n",
       "\n",
       "| <!--/--> | Effect &lt;chr&gt; | DFn &lt;dbl&gt; | DFd &lt;dbl&gt; | F &lt;dbl&gt; | p &lt;dbl&gt; | p&lt;.05 &lt;chr&gt; | ges &lt;dbl&gt; |\n",
       "|---|---|---|---|---|---|---|---|\n",
       "| 2 | Finger            | 3 |  45 | 136.205401 | 1.367086e-22 | * | 0.38248888 |\n",
       "| 3 | Phone             | 3 |  45 |  46.250327 | 8.506747e-14 | * | 0.43580697 |\n",
       "| 4 | Cond              | 1 |  15 | 412.273795 | 2.534452e-12 | * | 0.62334249 |\n",
       "| 5 | Finger:Phone      | 9 | 135 |  19.558041 | 1.181894e-20 | * | 0.04935845 |\n",
       "| 6 | Finger:Cond       | 3 |  45 | 127.330478 | 5.314120e-22 | * | 0.10415080 |\n",
       "| 7 | Phone:Cond        | 3 |  45 |  19.477115 | 3.063633e-08 | * | 0.28333166 |\n",
       "| 8 | Finger:Phone:Cond | 9 | 135 |   9.450177 | 4.514161e-11 | * | 0.02346037 |\n",
       "\n",
       "\n",
       "$`Mauchly's Test for Sphericity`\n",
       ":   \n",
       "A data.frame: 6 × 4\n",
       "\n",
       "| <!--/--> | Effect &lt;chr&gt; | W &lt;dbl&gt; | p &lt;dbl&gt; | p&lt;.05 &lt;chr&gt; |\n",
       "|---|---|---|---|---|\n",
       "| 2 | Finger            | 3.088756e-01 | 6.751039e-03 | * |\n",
       "| 3 | Phone             | 5.311440e-01 | 1.238795e-01 | <!----> |\n",
       "| 5 | Finger:Phone      | 3.241307e-05 | 1.084135e-08 | * |\n",
       "| 6 | Finger:Cond       | 1.686756e-01 | 1.948340e-04 | * |\n",
       "| 7 | Phone:Cond        | 4.480127e-01 | 5.196669e-02 | <!----> |\n",
       "| 8 | Finger:Phone:Cond | 1.426636e-05 | 4.657538e-10 | * |\n",
       "\n",
       "\n",
       "$`Sphericity Corrections`\n",
       ":   \n",
       "A data.frame: 6 × 7\n",
       "\n",
       "| <!--/--> | Effect &lt;chr&gt; | GGe &lt;dbl&gt; | p[GG] &lt;dbl&gt; | p[GG]&lt;.05 &lt;chr&gt; | HFe &lt;dbl&gt; | p[HF] &lt;dbl&gt; | p[HF]&lt;.05 &lt;chr&gt; |\n",
       "|---|---|---|---|---|---|---|---|\n",
       "| 2 | Finger            | 0.5921593 | 2.983803e-14 | * | 0.6660769 | 9.118792e-16 | * |\n",
       "| 3 | Phone             | 0.7608042 | 5.361907e-11 | * | 0.9047471 | 1.104729e-12 | * |\n",
       "| 5 | Finger:Phone      | 0.3250199 | 4.169457e-08 | * | 0.4122708 | 9.612063e-10 | * |\n",
       "| 6 | Finger:Cond       | 0.5231882 | 1.585079e-12 | * | 0.5736482 | 1.562808e-13 | * |\n",
       "| 7 | Phone:Cond        | 0.7283719 | 1.546550e-06 | * | 0.8573845 | 2.391914e-07 | * |\n",
       "| 8 | Finger:Phone:Cond | 0.3009383 | 1.182662e-04 | * | 0.3736541 | 2.467740e-05 | * |\n",
       "\n",
       "\n",
       "\n",
       "\n"
      ],
      "text/plain": [
       "$ANOVA\n",
       "             Effect DFn DFd          F            p p<.05        ges\n",
       "2            Finger   3  45 136.205401 1.367086e-22     * 0.38248888\n",
       "3             Phone   3  45  46.250327 8.506747e-14     * 0.43580697\n",
       "4              Cond   1  15 412.273795 2.534452e-12     * 0.62334249\n",
       "5      Finger:Phone   9 135  19.558041 1.181894e-20     * 0.04935845\n",
       "6       Finger:Cond   3  45 127.330478 5.314120e-22     * 0.10415080\n",
       "7        Phone:Cond   3  45  19.477115 3.063633e-08     * 0.28333166\n",
       "8 Finger:Phone:Cond   9 135   9.450177 4.514161e-11     * 0.02346037\n",
       "\n",
       "$`Mauchly's Test for Sphericity`\n",
       "             Effect            W            p p<.05\n",
       "2            Finger 3.088756e-01 6.751039e-03     *\n",
       "3             Phone 5.311440e-01 1.238795e-01      \n",
       "5      Finger:Phone 3.241307e-05 1.084135e-08     *\n",
       "6       Finger:Cond 1.686756e-01 1.948340e-04     *\n",
       "7        Phone:Cond 4.480127e-01 5.196669e-02      \n",
       "8 Finger:Phone:Cond 1.426636e-05 4.657538e-10     *\n",
       "\n",
       "$`Sphericity Corrections`\n",
       "             Effect       GGe        p[GG] p[GG]<.05       HFe        p[HF]\n",
       "2            Finger 0.5921593 2.983803e-14         * 0.6660769 9.118792e-16\n",
       "3             Phone 0.7608042 5.361907e-11         * 0.9047471 1.104729e-12\n",
       "5      Finger:Phone 0.3250199 4.169457e-08         * 0.4122708 9.612063e-10\n",
       "6       Finger:Cond 0.5231882 1.585079e-12         * 0.5736482 1.562808e-13\n",
       "7        Phone:Cond 0.7283719 1.546550e-06         * 0.8573845 2.391914e-07\n",
       "8 Finger:Phone:Cond 0.3009383 1.182662e-04         * 0.3736541 2.467740e-05\n",
       "  p[HF]<.05\n",
       "2         *\n",
       "3         *\n",
       "5         *\n",
       "6         *\n",
       "7         *\n",
       "8         *\n"
      ]
     },
     "metadata": {},
     "output_type": "display_data"
    }
   ],
   "source": [
    "aov<-ezANOVA(data = df,\n",
    "       dv = Speed_2D,\n",
    "       within = c(Finger, Phone, Cond),\n",
    "       wid = PId,\n",
    "       type = 3,\n",
    "       detailed = F,\n",
    "       return_aov = F)\n",
    "\n",
    "aov"
   ]
  },
  {
   "cell_type": "code",
   "execution_count": 7,
   "metadata": {},
   "outputs": [
    {
     "data": {
      "text/html": [
       "<ol class=list-inline>\n",
       "\t<li>1.77647804145457</li>\n",
       "\t<li>2.28241256408764</li>\n",
       "\t<li>2.92517925654034</li>\n",
       "\t<li>1.56956460529277</li>\n",
       "\t<li>2.18511567343406</li>\n",
       "\t<li>2.70844457095088</li>\n",
       "</ol>\n"
      ],
      "text/latex": [
       "\\begin{enumerate*}\n",
       "\\item 1.77647804145457\n",
       "\\item 2.28241256408764\n",
       "\\item 2.92517925654034\n",
       "\\item 1.56956460529277\n",
       "\\item 2.18511567343406\n",
       "\\item 2.70844457095088\n",
       "\\end{enumerate*}\n"
      ],
      "text/markdown": [
       "1. 1.77647804145457\n",
       "2. 2.28241256408764\n",
       "3. 2.92517925654034\n",
       "4. 1.56956460529277\n",
       "5. 2.18511567343406\n",
       "6. 2.70844457095088\n",
       "\n",
       "\n"
      ],
      "text/plain": [
       "[1] 1.776478 2.282413 2.925179 1.569565 2.185116 2.708445"
      ]
     },
     "metadata": {},
     "output_type": "display_data"
    },
    {
     "data": {
      "text/html": [
       "<ol class=list-inline>\n",
       "\t<li>26.6471706218186</li>\n",
       "\t<li>34.2361884613146</li>\n",
       "\t<li>43.8776888481051</li>\n",
       "\t<li>23.5434690793916</li>\n",
       "\t<li>32.7767351015109</li>\n",
       "\t<li>40.6266685642632</li>\n",
       "</ol>\n"
      ],
      "text/latex": [
       "\\begin{enumerate*}\n",
       "\\item 26.6471706218186\n",
       "\\item 34.2361884613146\n",
       "\\item 43.8776888481051\n",
       "\\item 23.5434690793916\n",
       "\\item 32.7767351015109\n",
       "\\item 40.6266685642632\n",
       "\\end{enumerate*}\n"
      ],
      "text/markdown": [
       "1. 26.6471706218186\n",
       "2. 34.2361884613146\n",
       "3. 43.8776888481051\n",
       "4. 23.5434690793916\n",
       "5. 32.7767351015109\n",
       "6. 40.6266685642632\n",
       "\n",
       "\n"
      ],
      "text/plain": [
       "[1] 26.64717 34.23619 43.87769 23.54347 32.77674 40.62667"
      ]
     },
     "metadata": {},
     "output_type": "display_data"
    }
   ],
   "source": [
    "aov$`Sphericity Corrections`$GGe * c(3, 3, 9, 3, 3, 9)\n",
    "aov$`Sphericity Corrections`$GGe * c(45, 45, 135, 45, 45, 135)"
   ]
  },
  {
   "cell_type": "code",
   "execution_count": 8,
   "metadata": {},
   "outputs": [
    {
     "name": "stderr",
     "output_type": "stream",
     "text": [
      "Warning message in mcp2matrix(model, linfct = linfct):\n",
      "“covariate interactions found -- default contrast might be inappropriate”\n"
     ]
    },
    {
     "data": {
      "text/plain": [
       "\n",
       "\t Simultaneous Tests for General Linear Hypotheses\n",
       "\n",
       "Multiple Comparisons of Means: Tukey Contrasts\n",
       "\n",
       "\n",
       "Fit: lme.formula(fixed = Speed_2D ~ Phone * Cond * Finger, data = df, \n",
       "    random = ~1 | PId)\n",
       "\n",
       "Linear Hypotheses:\n",
       "                      Estimate Std. Error z value Pr(>|z|)    \n",
       "walking - seated == 0   0.7587     0.1421    5.34 9.31e-08 ***\n",
       "---\n",
       "Signif. codes:  0 ‘***’ 0.001 ‘**’ 0.01 ‘*’ 0.05 ‘.’ 0.1 ‘ ’ 1\n",
       "(Adjusted p values reported -- bonferroni method)\n"
      ]
     },
     "metadata": {},
     "output_type": "display_data"
    }
   ],
   "source": [
    "lme_velocity <- lme(Speed_2D ~ Phone*Cond*Finger, data = df, random=~1|PId)\n",
    "summary(glht(lme_velocity, linfct=mcp(Cond = \"Tukey\")), test = adjusted(type = \"bonferroni\"))"
   ]
  },
  {
   "cell_type": "code",
   "execution_count": 9,
   "metadata": {},
   "outputs": [
    {
     "name": "stderr",
     "output_type": "stream",
     "text": [
      "Warning message in mcp2matrix(model, linfct = linfct):\n",
      "“covariate interactions found -- default contrast might be inappropriate”\n"
     ]
    },
    {
     "data": {
      "text/plain": [
       "\n",
       "\t Simultaneous Tests for General Linear Hypotheses\n",
       "\n",
       "Multiple Comparisons of Means: Tukey Contrasts\n",
       "\n",
       "\n",
       "Fit: lme.formula(fixed = Speed_2D ~ Phone * Cond * Finger, data = df, \n",
       "    random = ~1 | PId)\n",
       "\n",
       "Linear Hypotheses:\n",
       "                Estimate Std. Error z value Pr(>|z|)\n",
       "OPO - N6 == 0 -6.977e-02  1.421e-01  -0.491    1.000\n",
       "S3 - N6 == 0   6.306e-06  1.421e-01   0.000    1.000\n",
       "S4 - N6 == 0  -2.089e-01  1.421e-01  -1.470    0.849\n",
       "S3 - OPO == 0  6.978e-02  1.421e-01   0.491    1.000\n",
       "S4 - OPO == 0 -1.391e-01  1.421e-01  -0.979    1.000\n",
       "S4 - S3 == 0  -2.089e-01  1.421e-01  -1.470    0.849\n",
       "(Adjusted p values reported -- bonferroni method)\n"
      ]
     },
     "metadata": {},
     "output_type": "display_data"
    }
   ],
   "source": [
    "lme_velocity <- lme(Speed_2D ~ Phone*Cond*Finger, data = df, random=~1|PId)\n",
    "summary(glht(lme_velocity, linfct=mcp(Phone = \"Tukey\")), test = adjusted(type = \"bonferroni\"))"
   ]
  },
  {
   "cell_type": "code",
   "execution_count": 10,
   "metadata": {},
   "outputs": [
    {
     "data": {
      "text/plain": [
       "\n",
       "\t Simultaneous Tests for General Linear Hypotheses\n",
       "\n",
       "Multiple Comparisons of Means: Tukey Contrasts\n",
       "\n",
       "\n",
       "Fit: lme.formula(fixed = Speed_2D ~ Phone, data = df, random = ~1 | \n",
       "    PId)\n",
       "\n",
       "Linear Hypotheses:\n",
       "              Estimate Std. Error z value Pr(>|z|)    \n",
       "OPO - N6 == 0 -0.28475    0.10569  -2.694  0.04233 *  \n",
       "S3 - N6 == 0   0.60798    0.10569   5.753 5.27e-08 ***\n",
       "S4 - N6 == 0  -0.36681    0.10569  -3.471  0.00312 ** \n",
       "S3 - OPO == 0  0.89273    0.10569   8.447  < 2e-16 ***\n",
       "S4 - OPO == 0 -0.08206    0.10569  -0.776  1.00000    \n",
       "S4 - S3 == 0  -0.97479    0.10569  -9.223  < 2e-16 ***\n",
       "---\n",
       "Signif. codes:  0 ‘***’ 0.001 ‘**’ 0.01 ‘*’ 0.05 ‘.’ 0.1 ‘ ’ 1\n",
       "(Adjusted p values reported -- bonferroni method)\n"
      ]
     },
     "metadata": {},
     "output_type": "display_data"
    }
   ],
   "source": [
    "lme_velocity <- lme(Speed_2D ~ Phone, data = df, random=~1|PId)\n",
    "summary(glht(lme_velocity, linfct=mcp(Phone = \"Tukey\")), test = adjusted(type = \"bonferroni\"))"
   ]
  },
  {
   "cell_type": "code",
   "execution_count": 11,
   "metadata": {},
   "outputs": [
    {
     "data": {
      "text/html": [
       "<table>\n",
       "<caption>A anova: 6 × 4</caption>\n",
       "<thead>\n",
       "\t<tr><th></th><th scope=col>Value</th><th scope=col>Df</th><th scope=col>Chisq</th><th scope=col>Pr(&gt;Chisq)</th></tr>\n",
       "\t<tr><th></th><th scope=col>&lt;dbl&gt;</th><th scope=col>&lt;dbl&gt;</th><th scope=col>&lt;dbl&gt;</th><th scope=col>&lt;dbl&gt;</th></tr>\n",
       "</thead>\n",
       "<tbody>\n",
       "\t<tr><th scope=row>N6-OPO</th><td> 0.28474991</td><td>1</td><td> 7.2588769</td><td>4.233084e-02</td></tr>\n",
       "\t<tr><th scope=row> N6-S3</th><td>-0.60797896</td><td>1</td><td>33.0917210</td><td>5.274735e-08</td></tr>\n",
       "\t<tr><th scope=row> N6-S4</th><td> 0.36680918</td><td>1</td><td>12.0454392</td><td>3.115155e-03</td></tr>\n",
       "\t<tr><th scope=row>OPO-S3</th><td>-0.89272886</td><td>1</td><td>71.3479351</td><td>1.796827e-16</td></tr>\n",
       "\t<tr><th scope=row>OPO-S4</th><td> 0.08205927</td><td>1</td><td> 0.6028338</td><td>1.000000e+00</td></tr>\n",
       "\t<tr><th scope=row> S3-S4</th><td> 0.97478814</td><td>1</td><td>85.0673148</td><td>1.730270e-19</td></tr>\n",
       "</tbody>\n",
       "</table>\n"
      ],
      "text/latex": [
       "A anova: 6 × 4\n",
       "\\begin{tabular}{r|llll}\n",
       "  & Value & Df & Chisq & Pr(>Chisq)\\\\\n",
       "  & <dbl> & <dbl> & <dbl> & <dbl>\\\\\n",
       "\\hline\n",
       "\tN6-OPO &  0.28474991 & 1 &  7.2588769 & 4.233084e-02\\\\\n",
       "\t N6-S3 & -0.60797896 & 1 & 33.0917210 & 5.274735e-08\\\\\n",
       "\t N6-S4 &  0.36680918 & 1 & 12.0454392 & 3.115155e-03\\\\\n",
       "\tOPO-S3 & -0.89272886 & 1 & 71.3479351 & 1.796827e-16\\\\\n",
       "\tOPO-S4 &  0.08205927 & 1 &  0.6028338 & 1.000000e+00\\\\\n",
       "\t S3-S4 &  0.97478814 & 1 & 85.0673148 & 1.730270e-19\\\\\n",
       "\\end{tabular}\n"
      ],
      "text/markdown": [
       "\n",
       "A anova: 6 × 4\n",
       "\n",
       "| <!--/--> | Value &lt;dbl&gt; | Df &lt;dbl&gt; | Chisq &lt;dbl&gt; | Pr(&gt;Chisq) &lt;dbl&gt; |\n",
       "|---|---|---|---|---|\n",
       "| N6-OPO |  0.28474991 | 1 |  7.2588769 | 4.233084e-02 |\n",
       "|  N6-S3 | -0.60797896 | 1 | 33.0917210 | 5.274735e-08 |\n",
       "|  N6-S4 |  0.36680918 | 1 | 12.0454392 | 3.115155e-03 |\n",
       "| OPO-S3 | -0.89272886 | 1 | 71.3479351 | 1.796827e-16 |\n",
       "| OPO-S4 |  0.08205927 | 1 |  0.6028338 | 1.000000e+00 |\n",
       "|  S3-S4 |  0.97478814 | 1 | 85.0673148 | 1.730270e-19 |\n",
       "\n"
      ],
      "text/plain": [
       "       Value       Df Chisq      Pr(>Chisq)  \n",
       "N6-OPO  0.28474991 1   7.2588769 4.233084e-02\n",
       " N6-S3 -0.60797896 1  33.0917210 5.274735e-08\n",
       " N6-S4  0.36680918 1  12.0454392 3.115155e-03\n",
       "OPO-S3 -0.89272886 1  71.3479351 1.796827e-16\n",
       "OPO-S4  0.08205927 1   0.6028338 1.000000e+00\n",
       " S3-S4  0.97478814 1  85.0673148 1.730270e-19"
      ]
     },
     "metadata": {},
     "output_type": "display_data"
    }
   ],
   "source": [
    "testInteractions(lme_velocity, pairwise=c(\"Phone\"), adjustment=\"bonferroni\")"
   ]
  },
  {
   "cell_type": "markdown",
   "metadata": {},
   "source": [
    "# ANOVA only on walking "
   ]
  },
  {
   "cell_type": "code",
   "execution_count": 12,
   "metadata": {},
   "outputs": [
    {
     "data": {
      "text/html": [
       "<dl>\n",
       "\t<dt>$ANOVA</dt>\n",
       "\t\t<dd><table>\n",
       "<caption>A data.frame: 3 × 7</caption>\n",
       "<thead>\n",
       "\t<tr><th></th><th scope=col>Effect</th><th scope=col>DFn</th><th scope=col>DFd</th><th scope=col>F</th><th scope=col>p</th><th scope=col>p&lt;.05</th><th scope=col>ges</th></tr>\n",
       "\t<tr><th></th><th scope=col>&lt;chr&gt;</th><th scope=col>&lt;dbl&gt;</th><th scope=col>&lt;dbl&gt;</th><th scope=col>&lt;dbl&gt;</th><th scope=col>&lt;dbl&gt;</th><th scope=col>&lt;chr&gt;</th><th scope=col>&lt;dbl&gt;</th></tr>\n",
       "</thead>\n",
       "<tbody>\n",
       "\t<tr><th scope=row>2</th><td>Finger      </td><td>3</td><td> 45</td><td>176.34856</td><td>6.913893e-25</td><td>*</td><td>0.46119759</td></tr>\n",
       "\t<tr><th scope=row>3</th><td>Phone       </td><td>3</td><td> 45</td><td> 38.06328</td><td>2.095655e-12</td><td>*</td><td>0.60449052</td></tr>\n",
       "\t<tr><th scope=row>4</th><td>Finger:Phone</td><td>9</td><td>135</td><td> 17.09139</td><td>1.424147e-18</td><td>*</td><td>0.08846915</td></tr>\n",
       "</tbody>\n",
       "</table>\n",
       "</dd>\n",
       "\t<dt>$`Mauchly's Test for Sphericity`</dt>\n",
       "\t\t<dd><table>\n",
       "<caption>A data.frame: 3 × 4</caption>\n",
       "<thead>\n",
       "\t<tr><th></th><th scope=col>Effect</th><th scope=col>W</th><th scope=col>p</th><th scope=col>p&lt;.05</th></tr>\n",
       "\t<tr><th></th><th scope=col>&lt;chr&gt;</th><th scope=col>&lt;dbl&gt;</th><th scope=col>&lt;dbl&gt;</th><th scope=col>&lt;chr&gt;</th></tr>\n",
       "</thead>\n",
       "<tbody>\n",
       "\t<tr><th scope=row>2</th><td>Finger      </td><td>3.379927e-01</td><td>1.113513e-02</td><td>*</td></tr>\n",
       "\t<tr><th scope=row>3</th><td>Phone       </td><td>3.792840e-01</td><td>2.111302e-02</td><td>*</td></tr>\n",
       "\t<tr><th scope=row>4</th><td>Finger:Phone</td><td>2.496683e-05</td><td>3.968012e-09</td><td>*</td></tr>\n",
       "</tbody>\n",
       "</table>\n",
       "</dd>\n",
       "\t<dt>$`Sphericity Corrections`</dt>\n",
       "\t\t<dd><table>\n",
       "<caption>A data.frame: 3 × 7</caption>\n",
       "<thead>\n",
       "\t<tr><th></th><th scope=col>Effect</th><th scope=col>GGe</th><th scope=col>p[GG]</th><th scope=col>p[GG]&lt;.05</th><th scope=col>HFe</th><th scope=col>p[HF]</th><th scope=col>p[HF]&lt;.05</th></tr>\n",
       "\t<tr><th></th><th scope=col>&lt;chr&gt;</th><th scope=col>&lt;dbl&gt;</th><th scope=col>&lt;dbl&gt;</th><th scope=col>&lt;chr&gt;</th><th scope=col>&lt;dbl&gt;</th><th scope=col>&lt;dbl&gt;</th><th scope=col>&lt;chr&gt;</th></tr>\n",
       "</thead>\n",
       "<tbody>\n",
       "\t<tr><th scope=row>2</th><td>Finger      </td><td>0.5979546</td><td>9.532536e-16</td><td>*</td><td>0.6739751</td><td>1.768508e-17</td><td>*</td></tr>\n",
       "\t<tr><th scope=row>3</th><td>Phone       </td><td>0.7109057</td><td>2.043270e-09</td><td>*</td><td>0.8321745</td><td>1.133358e-10</td><td>*</td></tr>\n",
       "\t<tr><th scope=row>4</th><td>Finger:Phone</td><td>0.3038501</td><td>4.671368e-07</td><td>*</td><td>0.3782510</td><td>2.654709e-08</td><td>*</td></tr>\n",
       "</tbody>\n",
       "</table>\n",
       "</dd>\n",
       "</dl>\n"
      ],
      "text/latex": [
       "\\begin{description}\n",
       "\\item[\\$ANOVA] A data.frame: 3 × 7\n",
       "\\begin{tabular}{r|lllllll}\n",
       "  & Effect & DFn & DFd & F & p & p<.05 & ges\\\\\n",
       "  & <chr> & <dbl> & <dbl> & <dbl> & <dbl> & <chr> & <dbl>\\\\\n",
       "\\hline\n",
       "\t2 & Finger       & 3 &  45 & 176.34856 & 6.913893e-25 & * & 0.46119759\\\\\n",
       "\t3 & Phone        & 3 &  45 &  38.06328 & 2.095655e-12 & * & 0.60449052\\\\\n",
       "\t4 & Finger:Phone & 9 & 135 &  17.09139 & 1.424147e-18 & * & 0.08846915\\\\\n",
       "\\end{tabular}\n",
       "\n",
       "\\item[\\$`Mauchly's Test for Sphericity`] A data.frame: 3 × 4\n",
       "\\begin{tabular}{r|llll}\n",
       "  & Effect & W & p & p<.05\\\\\n",
       "  & <chr> & <dbl> & <dbl> & <chr>\\\\\n",
       "\\hline\n",
       "\t2 & Finger       & 3.379927e-01 & 1.113513e-02 & *\\\\\n",
       "\t3 & Phone        & 3.792840e-01 & 2.111302e-02 & *\\\\\n",
       "\t4 & Finger:Phone & 2.496683e-05 & 3.968012e-09 & *\\\\\n",
       "\\end{tabular}\n",
       "\n",
       "\\item[\\$`Sphericity Corrections`] A data.frame: 3 × 7\n",
       "\\begin{tabular}{r|lllllll}\n",
       "  & Effect & GGe & p{[}GG{]} & p{[}GG{]}<.05 & HFe & p{[}HF{]} & p{[}HF{]}<.05\\\\\n",
       "  & <chr> & <dbl> & <dbl> & <chr> & <dbl> & <dbl> & <chr>\\\\\n",
       "\\hline\n",
       "\t2 & Finger       & 0.5979546 & 9.532536e-16 & * & 0.6739751 & 1.768508e-17 & *\\\\\n",
       "\t3 & Phone        & 0.7109057 & 2.043270e-09 & * & 0.8321745 & 1.133358e-10 & *\\\\\n",
       "\t4 & Finger:Phone & 0.3038501 & 4.671368e-07 & * & 0.3782510 & 2.654709e-08 & *\\\\\n",
       "\\end{tabular}\n",
       "\n",
       "\\end{description}\n"
      ],
      "text/markdown": [
       "$ANOVA\n",
       ":   \n",
       "A data.frame: 3 × 7\n",
       "\n",
       "| <!--/--> | Effect &lt;chr&gt; | DFn &lt;dbl&gt; | DFd &lt;dbl&gt; | F &lt;dbl&gt; | p &lt;dbl&gt; | p&lt;.05 &lt;chr&gt; | ges &lt;dbl&gt; |\n",
       "|---|---|---|---|---|---|---|---|\n",
       "| 2 | Finger       | 3 |  45 | 176.34856 | 6.913893e-25 | * | 0.46119759 |\n",
       "| 3 | Phone        | 3 |  45 |  38.06328 | 2.095655e-12 | * | 0.60449052 |\n",
       "| 4 | Finger:Phone | 9 | 135 |  17.09139 | 1.424147e-18 | * | 0.08846915 |\n",
       "\n",
       "\n",
       "$`Mauchly's Test for Sphericity`\n",
       ":   \n",
       "A data.frame: 3 × 4\n",
       "\n",
       "| <!--/--> | Effect &lt;chr&gt; | W &lt;dbl&gt; | p &lt;dbl&gt; | p&lt;.05 &lt;chr&gt; |\n",
       "|---|---|---|---|---|\n",
       "| 2 | Finger       | 3.379927e-01 | 1.113513e-02 | * |\n",
       "| 3 | Phone        | 3.792840e-01 | 2.111302e-02 | * |\n",
       "| 4 | Finger:Phone | 2.496683e-05 | 3.968012e-09 | * |\n",
       "\n",
       "\n",
       "$`Sphericity Corrections`\n",
       ":   \n",
       "A data.frame: 3 × 7\n",
       "\n",
       "| <!--/--> | Effect &lt;chr&gt; | GGe &lt;dbl&gt; | p[GG] &lt;dbl&gt; | p[GG]&lt;.05 &lt;chr&gt; | HFe &lt;dbl&gt; | p[HF] &lt;dbl&gt; | p[HF]&lt;.05 &lt;chr&gt; |\n",
       "|---|---|---|---|---|---|---|---|\n",
       "| 2 | Finger       | 0.5979546 | 9.532536e-16 | * | 0.6739751 | 1.768508e-17 | * |\n",
       "| 3 | Phone        | 0.7109057 | 2.043270e-09 | * | 0.8321745 | 1.133358e-10 | * |\n",
       "| 4 | Finger:Phone | 0.3038501 | 4.671368e-07 | * | 0.3782510 | 2.654709e-08 | * |\n",
       "\n",
       "\n",
       "\n",
       "\n"
      ],
      "text/plain": [
       "$ANOVA\n",
       "        Effect DFn DFd         F            p p<.05        ges\n",
       "2       Finger   3  45 176.34856 6.913893e-25     * 0.46119759\n",
       "3        Phone   3  45  38.06328 2.095655e-12     * 0.60449052\n",
       "4 Finger:Phone   9 135  17.09139 1.424147e-18     * 0.08846915\n",
       "\n",
       "$`Mauchly's Test for Sphericity`\n",
       "        Effect            W            p p<.05\n",
       "2       Finger 3.379927e-01 1.113513e-02     *\n",
       "3        Phone 3.792840e-01 2.111302e-02     *\n",
       "4 Finger:Phone 2.496683e-05 3.968012e-09     *\n",
       "\n",
       "$`Sphericity Corrections`\n",
       "        Effect       GGe        p[GG] p[GG]<.05       HFe        p[HF]\n",
       "2       Finger 0.5979546 9.532536e-16         * 0.6739751 1.768508e-17\n",
       "3        Phone 0.7109057 2.043270e-09         * 0.8321745 1.133358e-10\n",
       "4 Finger:Phone 0.3038501 4.671368e-07         * 0.3782510 2.654709e-08\n",
       "  p[HF]<.05\n",
       "2         *\n",
       "3         *\n",
       "4         *\n"
      ]
     },
     "metadata": {},
     "output_type": "display_data"
    }
   ],
   "source": [
    "df2 = df[df$Cond == \"walking\",]\n",
    "aov2<-ezANOVA(data = df2,\n",
    "       dv = Speed_2D,\n",
    "       within = c(Finger, Phone),\n",
    "       wid = PId,\n",
    "       type = 3,\n",
    "       detailed = F,\n",
    "       return_aov = F)\n",
    "\n",
    "aov2"
   ]
  },
  {
   "cell_type": "code",
   "execution_count": 13,
   "metadata": {},
   "outputs": [
    {
     "data": {
      "text/plain": [
       "\n",
       "\t Simultaneous Tests for General Linear Hypotheses\n",
       "\n",
       "Multiple Comparisons of Means: Tukey Contrasts\n",
       "\n",
       "\n",
       "Fit: lme.formula(fixed = Speed_2D ~ Phone, data = df2, random = ~1 | \n",
       "    PId)\n",
       "\n",
       "Linear Hypotheses:\n",
       "              Estimate Std. Error z value Pr(>|z|)    \n",
       "OPO - N6 == 0 -0.50614    0.12729  -3.976 0.000420 ***\n",
       "S3 - N6 == 0   1.07564    0.12729   8.450  < 2e-16 ***\n",
       "S4 - N6 == 0  -0.54752    0.12729  -4.301 0.000102 ***\n",
       "S3 - OPO == 0  1.58179    0.12729  12.426  < 2e-16 ***\n",
       "S4 - OPO == 0 -0.04137    0.12729  -0.325 1.000000    \n",
       "S4 - S3 == 0  -1.62316    0.12729 -12.751  < 2e-16 ***\n",
       "---\n",
       "Signif. codes:  0 ‘***’ 0.001 ‘**’ 0.01 ‘*’ 0.05 ‘.’ 0.1 ‘ ’ 1\n",
       "(Adjusted p values reported -- bonferroni method)\n"
      ]
     },
     "metadata": {},
     "output_type": "display_data"
    }
   ],
   "source": [
    "lme2 <- lme(Speed_2D ~ Phone, data = df2, random=~1|PId)\n",
    "summary(glht(lme2, linfct=mcp(Phone = \"Tukey\")), test = adjusted(type = \"bonferroni\"))"
   ]
  },
  {
   "cell_type": "markdown",
   "metadata": {},
   "source": [
    "# ANOVA only on sitting "
   ]
  },
  {
   "cell_type": "code",
   "execution_count": 14,
   "metadata": {},
   "outputs": [
    {
     "data": {
      "text/html": [
       "<dl>\n",
       "\t<dt>$ANOVA</dt>\n",
       "\t\t<dd><table>\n",
       "<caption>A data.frame: 3 × 7</caption>\n",
       "<thead>\n",
       "\t<tr><th></th><th scope=col>Effect</th><th scope=col>DFn</th><th scope=col>DFd</th><th scope=col>F</th><th scope=col>p</th><th scope=col>p&lt;.05</th><th scope=col>ges</th></tr>\n",
       "\t<tr><th></th><th scope=col>&lt;chr&gt;</th><th scope=col>&lt;dbl&gt;</th><th scope=col>&lt;dbl&gt;</th><th scope=col>&lt;dbl&gt;</th><th scope=col>&lt;dbl&gt;</th><th scope=col>&lt;chr&gt;</th><th scope=col>&lt;dbl&gt;</th></tr>\n",
       "</thead>\n",
       "<tbody>\n",
       "\t<tr><th scope=row>2</th><td>Finger      </td><td>3</td><td> 45</td><td>54.666964</td><td>4.780691e-15</td><td>*</td><td>0.28212358</td></tr>\n",
       "\t<tr><th scope=row>3</th><td>Phone       </td><td>3</td><td> 45</td><td> 5.022307</td><td>4.352636e-03</td><td>*</td><td>0.12334280</td></tr>\n",
       "\t<tr><th scope=row>4</th><td>Finger:Phone</td><td>9</td><td>135</td><td> 4.135149</td><td>1.008635e-04</td><td>*</td><td>0.01556983</td></tr>\n",
       "</tbody>\n",
       "</table>\n",
       "</dd>\n",
       "\t<dt>$`Mauchly's Test for Sphericity`</dt>\n",
       "\t\t<dd><table>\n",
       "<caption>A data.frame: 3 × 4</caption>\n",
       "<thead>\n",
       "\t<tr><th></th><th scope=col>Effect</th><th scope=col>W</th><th scope=col>p</th><th scope=col>p&lt;.05</th></tr>\n",
       "\t<tr><th></th><th scope=col>&lt;chr&gt;</th><th scope=col>&lt;dbl&gt;</th><th scope=col>&lt;dbl&gt;</th><th scope=col>&lt;chr&gt;</th></tr>\n",
       "</thead>\n",
       "<tbody>\n",
       "\t<tr><th scope=row>2</th><td>Finger      </td><td>0.2242952536</td><td>1.046689e-03</td><td>*</td></tr>\n",
       "\t<tr><th scope=row>3</th><td>Phone       </td><td>0.5906417827</td><td>2.057361e-01</td><td> </td></tr>\n",
       "\t<tr><th scope=row>4</th><td>Finger:Phone</td><td>0.0001409085</td><td>2.125770e-06</td><td>*</td></tr>\n",
       "</tbody>\n",
       "</table>\n",
       "</dd>\n",
       "\t<dt>$`Sphericity Corrections`</dt>\n",
       "\t\t<dd><table>\n",
       "<caption>A data.frame: 3 × 7</caption>\n",
       "<thead>\n",
       "\t<tr><th></th><th scope=col>Effect</th><th scope=col>GGe</th><th scope=col>p[GG]</th><th scope=col>p[GG]&lt;.05</th><th scope=col>HFe</th><th scope=col>p[HF]</th><th scope=col>p[HF]&lt;.05</th></tr>\n",
       "\t<tr><th></th><th scope=col>&lt;chr&gt;</th><th scope=col>&lt;dbl&gt;</th><th scope=col>&lt;dbl&gt;</th><th scope=col>&lt;chr&gt;</th><th scope=col>&lt;dbl&gt;</th><th scope=col>&lt;dbl&gt;</th><th scope=col>&lt;chr&gt;</th></tr>\n",
       "</thead>\n",
       "<tbody>\n",
       "\t<tr><th scope=row>2</th><td>Finger      </td><td>0.5643185</td><td>2.125252e-09</td><td>*</td><td>0.6284213</td><td>3.112178e-10</td><td>*</td></tr>\n",
       "\t<tr><th scope=row>3</th><td>Phone       </td><td>0.7620949</td><td>9.553659e-03</td><td>*</td><td>0.9066469</td><td>5.917091e-03</td><td>*</td></tr>\n",
       "\t<tr><th scope=row>4</th><td>Finger:Phone</td><td>0.3702641</td><td>8.636818e-03</td><td>*</td><td>0.4887030</td><td>3.657591e-03</td><td>*</td></tr>\n",
       "</tbody>\n",
       "</table>\n",
       "</dd>\n",
       "</dl>\n"
      ],
      "text/latex": [
       "\\begin{description}\n",
       "\\item[\\$ANOVA] A data.frame: 3 × 7\n",
       "\\begin{tabular}{r|lllllll}\n",
       "  & Effect & DFn & DFd & F & p & p<.05 & ges\\\\\n",
       "  & <chr> & <dbl> & <dbl> & <dbl> & <dbl> & <chr> & <dbl>\\\\\n",
       "\\hline\n",
       "\t2 & Finger       & 3 &  45 & 54.666964 & 4.780691e-15 & * & 0.28212358\\\\\n",
       "\t3 & Phone        & 3 &  45 &  5.022307 & 4.352636e-03 & * & 0.12334280\\\\\n",
       "\t4 & Finger:Phone & 9 & 135 &  4.135149 & 1.008635e-04 & * & 0.01556983\\\\\n",
       "\\end{tabular}\n",
       "\n",
       "\\item[\\$`Mauchly's Test for Sphericity`] A data.frame: 3 × 4\n",
       "\\begin{tabular}{r|llll}\n",
       "  & Effect & W & p & p<.05\\\\\n",
       "  & <chr> & <dbl> & <dbl> & <chr>\\\\\n",
       "\\hline\n",
       "\t2 & Finger       & 0.2242952536 & 1.046689e-03 & *\\\\\n",
       "\t3 & Phone        & 0.5906417827 & 2.057361e-01 &  \\\\\n",
       "\t4 & Finger:Phone & 0.0001409085 & 2.125770e-06 & *\\\\\n",
       "\\end{tabular}\n",
       "\n",
       "\\item[\\$`Sphericity Corrections`] A data.frame: 3 × 7\n",
       "\\begin{tabular}{r|lllllll}\n",
       "  & Effect & GGe & p{[}GG{]} & p{[}GG{]}<.05 & HFe & p{[}HF{]} & p{[}HF{]}<.05\\\\\n",
       "  & <chr> & <dbl> & <dbl> & <chr> & <dbl> & <dbl> & <chr>\\\\\n",
       "\\hline\n",
       "\t2 & Finger       & 0.5643185 & 2.125252e-09 & * & 0.6284213 & 3.112178e-10 & *\\\\\n",
       "\t3 & Phone        & 0.7620949 & 9.553659e-03 & * & 0.9066469 & 5.917091e-03 & *\\\\\n",
       "\t4 & Finger:Phone & 0.3702641 & 8.636818e-03 & * & 0.4887030 & 3.657591e-03 & *\\\\\n",
       "\\end{tabular}\n",
       "\n",
       "\\end{description}\n"
      ],
      "text/markdown": [
       "$ANOVA\n",
       ":   \n",
       "A data.frame: 3 × 7\n",
       "\n",
       "| <!--/--> | Effect &lt;chr&gt; | DFn &lt;dbl&gt; | DFd &lt;dbl&gt; | F &lt;dbl&gt; | p &lt;dbl&gt; | p&lt;.05 &lt;chr&gt; | ges &lt;dbl&gt; |\n",
       "|---|---|---|---|---|---|---|---|\n",
       "| 2 | Finger       | 3 |  45 | 54.666964 | 4.780691e-15 | * | 0.28212358 |\n",
       "| 3 | Phone        | 3 |  45 |  5.022307 | 4.352636e-03 | * | 0.12334280 |\n",
       "| 4 | Finger:Phone | 9 | 135 |  4.135149 | 1.008635e-04 | * | 0.01556983 |\n",
       "\n",
       "\n",
       "$`Mauchly's Test for Sphericity`\n",
       ":   \n",
       "A data.frame: 3 × 4\n",
       "\n",
       "| <!--/--> | Effect &lt;chr&gt; | W &lt;dbl&gt; | p &lt;dbl&gt; | p&lt;.05 &lt;chr&gt; |\n",
       "|---|---|---|---|---|\n",
       "| 2 | Finger       | 0.2242952536 | 1.046689e-03 | * |\n",
       "| 3 | Phone        | 0.5906417827 | 2.057361e-01 | <!----> |\n",
       "| 4 | Finger:Phone | 0.0001409085 | 2.125770e-06 | * |\n",
       "\n",
       "\n",
       "$`Sphericity Corrections`\n",
       ":   \n",
       "A data.frame: 3 × 7\n",
       "\n",
       "| <!--/--> | Effect &lt;chr&gt; | GGe &lt;dbl&gt; | p[GG] &lt;dbl&gt; | p[GG]&lt;.05 &lt;chr&gt; | HFe &lt;dbl&gt; | p[HF] &lt;dbl&gt; | p[HF]&lt;.05 &lt;chr&gt; |\n",
       "|---|---|---|---|---|---|---|---|\n",
       "| 2 | Finger       | 0.5643185 | 2.125252e-09 | * | 0.6284213 | 3.112178e-10 | * |\n",
       "| 3 | Phone        | 0.7620949 | 9.553659e-03 | * | 0.9066469 | 5.917091e-03 | * |\n",
       "| 4 | Finger:Phone | 0.3702641 | 8.636818e-03 | * | 0.4887030 | 3.657591e-03 | * |\n",
       "\n",
       "\n",
       "\n",
       "\n"
      ],
      "text/plain": [
       "$ANOVA\n",
       "        Effect DFn DFd         F            p p<.05        ges\n",
       "2       Finger   3  45 54.666964 4.780691e-15     * 0.28212358\n",
       "3        Phone   3  45  5.022307 4.352636e-03     * 0.12334280\n",
       "4 Finger:Phone   9 135  4.135149 1.008635e-04     * 0.01556983\n",
       "\n",
       "$`Mauchly's Test for Sphericity`\n",
       "        Effect            W            p p<.05\n",
       "2       Finger 0.2242952536 1.046689e-03     *\n",
       "3        Phone 0.5906417827 2.057361e-01      \n",
       "4 Finger:Phone 0.0001409085 2.125770e-06     *\n",
       "\n",
       "$`Sphericity Corrections`\n",
       "        Effect       GGe        p[GG] p[GG]<.05       HFe        p[HF]\n",
       "2       Finger 0.5643185 2.125252e-09         * 0.6284213 3.112178e-10\n",
       "3        Phone 0.7620949 9.553659e-03         * 0.9066469 5.917091e-03\n",
       "4 Finger:Phone 0.3702641 8.636818e-03         * 0.4887030 3.657591e-03\n",
       "  p[HF]<.05\n",
       "2         *\n",
       "3         *\n",
       "4         *\n"
      ]
     },
     "metadata": {},
     "output_type": "display_data"
    }
   ],
   "source": [
    "df2 = df[df$Cond == \"seated\",]\n",
    "aov2<-ezANOVA(data = df2,\n",
    "       dv = Speed_2D,\n",
    "       within = c(Finger, Phone),\n",
    "       wid = PId,\n",
    "       type = 3,\n",
    "       detailed = F,\n",
    "       return_aov = F)\n",
    "aov2"
   ]
  },
  {
   "cell_type": "code",
   "execution_count": 15,
   "metadata": {},
   "outputs": [
    {
     "data": {
      "text/plain": [
       "\n",
       "\t Simultaneous Tests for General Linear Hypotheses\n",
       "\n",
       "Multiple Comparisons of Means: Tukey Contrasts\n",
       "\n",
       "\n",
       "Fit: lme.formula(fixed = Speed_2D ~ Phone, data = df2, random = ~1 | \n",
       "    PId)\n",
       "\n",
       "Linear Hypotheses:\n",
       "              Estimate Std. Error z value Pr(>|z|)    \n",
       "OPO - N6 == 0 -0.06336    0.05746  -1.103  1.00000    \n",
       "S3 - N6 == 0   0.14032    0.05746   2.442  0.08760 .  \n",
       "S4 - N6 == 0  -0.18610    0.05746  -3.239  0.00720 ** \n",
       "S3 - OPO == 0  0.20367    0.05746   3.545  0.00236 ** \n",
       "S4 - OPO == 0 -0.12274    0.05746  -2.136  0.19591    \n",
       "S4 - S3 == 0  -0.32642    0.05746  -5.681 8.03e-08 ***\n",
       "---\n",
       "Signif. codes:  0 ‘***’ 0.001 ‘**’ 0.01 ‘*’ 0.05 ‘.’ 0.1 ‘ ’ 1\n",
       "(Adjusted p values reported -- bonferroni method)\n"
      ]
     },
     "metadata": {},
     "output_type": "display_data"
    }
   ],
   "source": [
    "lme2 <- lme(Speed_2D ~ Phone, data = df2, random=~1|PId)\n",
    "summary(glht(lme2, linfct=mcp(Phone = \"Tukey\")), test = adjusted(type = \"bonferroni\"))"
   ]
  }
 ],
 "metadata": {
  "kernelspec": {
   "display_name": "R",
   "language": "R",
   "name": "ir"
  },
  "language_info": {
   "codemirror_mode": "r",
   "file_extension": ".r",
   "mimetype": "text/x-r-source",
   "name": "R",
   "pygments_lexer": "r",
   "version": "3.6.1"
  }
 },
 "nbformat": 4,
 "nbformat_minor": 2
}
