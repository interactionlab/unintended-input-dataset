{
 "cells": [
  {
   "cell_type": "markdown",
   "metadata": {},
   "source": [
    "# Plot bar charts for average task completion times (TCT)"
   ]
  },
  {
   "cell_type": "code",
   "execution_count": 1,
   "metadata": {},
   "outputs": [],
   "source": [
    "import os\n",
    "import ast\n",
    "import pandas as pd\n",
    "import numpy as np\n",
    "import matplotlib.pyplot as plt\n",
    "import matplotlib.patches as mpatches"
   ]
  },
  {
   "cell_type": "markdown",
   "metadata": {},
   "source": [
    "#### Return the legth in ms for a given list of first and lasttimes"
   ]
  },
  {
   "cell_type": "code",
   "execution_count": 2,
   "metadata": {},
   "outputs": [],
   "source": [
    "def getTaskLength(firstTimes, lastTimes):\n",
    "    times = []\n",
    "    for i in range(len(firstTimes)):\n",
    "        result = int(lastTimes[i])-int(firstTimes[i])\n",
    "        times.append(result)\n",
    "    return times"
   ]
  },
  {
   "cell_type": "code",
   "execution_count": 3,
   "metadata": {},
   "outputs": [],
   "source": [
    "phones = [\"S3\",\"S4\",\"OPO\",\"N6\"]\n",
    "tasks = [\"Fitts\", \"WRITE\", \"READ\"]\n",
    "header = ['Participant','Phone','Cond','Tasks','TaskLengths']\n",
    "\n",
    "df = pd.read_csv(\"./out/info.csv\", sep = ';')\n",
    "df = df.drop(df.columns[0], axis=1)\n",
    "### String representation of lists to list\n",
    "df[\"FirstTimes\"] = df[\"FirstTimes\"].apply(ast.literal_eval)\n",
    "df[\"LastTimes\"] = df[\"LastTimes\"].apply(ast.literal_eval)\n",
    "df[\"Tasks\"] = df[\"Tasks\"].apply(ast.literal_eval)\n",
    "###calc task lengths for tasks with given list of first and last times\n",
    "df['TaskLengths'] = df.apply(lambda row: getTaskLength(row['FirstTimes'], row['LastTimes']), axis=1)\n",
    "df = df[header]\n",
    "df.to_csv(\"./out/tasklengths.csv\", sep = \";\", index=False)\n",
    "df_walking = df[df['Cond']=='walking']\n",
    "df_seated = df[df['Cond']=='seated']\n",
    "df_dict = {\"w\":df_walking, \"s\":df_seated}"
   ]
  },
  {
   "cell_type": "code",
   "execution_count": 4,
   "metadata": {},
   "outputs": [],
   "source": [
    "walking_dict = {\"S3\":{\"Fitts\":[],\"WRITE\":[],\"READ\":[]},\"S4\":{\"Fitts\":[],\"WRITE\":[],\"READ\":[]},\"OPO\":{\"Fitts\":[],\"WRITE\":[],\"READ\":[]},\"N6\":{\"Fitts\":[],\"WRITE\":[],\"READ\":[]}}\n",
    "seated_dict = {\"S3\":{\"Fitts\":[],\"WRITE\":[],\"READ\":[]},\"S4\":{\"Fitts\":[],\"WRITE\":[],\"READ\":[]},\"OPO\":{\"Fitts\":[],\"WRITE\":[],\"READ\":[]},\"N6\":{\"Fitts\":[],\"WRITE\":[],\"READ\":[]}}\n",
    "for c in [\"w\",\"s\"]:\n",
    "    df = df_dict[c]\n",
    "    for index, row in df.iterrows():\n",
    "        cond = row[\"Cond\"]\n",
    "        phone = row[\"Phone\"]\n",
    "        task_row = row[\"Tasks\"]\n",
    "        times = row[\"TaskLengths\"]\n",
    "        for i,t in enumerate(task_row):\n",
    "            #print(cond,, t)\n",
    "            task = task_row[i]\n",
    "            length = times[i]\n",
    "            if cond == \"walking\":\n",
    "                walking_dict[phone][t].append(length)\n",
    "            else:\n",
    "                seated_dict[phone][t].append(length)\n",
    "time_dict = {\"w\":walking_dict, \"s\":seated_dict}"
   ]
  },
  {
   "cell_type": "markdown",
   "metadata": {},
   "source": [
    "#### Generate plots for average task times"
   ]
  },
  {
   "cell_type": "code",
   "execution_count": 5,
   "metadata": {},
   "outputs": [
    {
     "name": "stdout",
     "output_type": "stream",
     "text": [
      "Condition: w, Phone: S3, Task: Fitts, Mean: 103.45 (sec), Std: 17.64 (sec)\n",
      "Condition: w, Phone: S3, Task: WRITE, Mean: 185.42 (sec), Std: 59.59 (sec)\n",
      "Condition: w, Phone: S3, Task: READ, Mean: 110.14 (sec), Std: 8.75 (sec)\n",
      "Condition: w, Phone: S4, Task: Fitts, Mean: 102.09 (sec), Std: 14.06 (sec)\n",
      "Condition: w, Phone: S4, Task: WRITE, Mean: 165.24 (sec), Std: 40.92 (sec)\n",
      "Condition: w, Phone: S4, Task: READ, Mean: 102.94 (sec), Std: 14.81 (sec)\n",
      "Condition: w, Phone: OPO, Task: Fitts, Mean: 106.07 (sec), Std: 20.71 (sec)\n",
      "Condition: w, Phone: OPO, Task: WRITE, Mean: 174.07 (sec), Std: 40.66 (sec)\n",
      "Condition: w, Phone: OPO, Task: READ, Mean: 96.17 (sec), Std: 28.80 (sec)\n",
      "Condition: w, Phone: N6, Task: Fitts, Mean: 116.15 (sec), Std: 22.32 (sec)\n",
      "Condition: w, Phone: N6, Task: WRITE, Mean: 192.82 (sec), Std: 53.99 (sec)\n",
      "Condition: w, Phone: N6, Task: READ, Mean: 99.76 (sec), Std: 15.99 (sec)\n",
      "Condition: s, Phone: S3, Task: Fitts, Mean: 106.64 (sec), Std: 18.68 (sec)\n",
      "Condition: s, Phone: S3, Task: WRITE, Mean: 197.52 (sec), Std: 62.56 (sec)\n",
      "Condition: s, Phone: S3, Task: READ, Mean: 108.88 (sec), Std: 7.78 (sec)\n",
      "Condition: s, Phone: S4, Task: Fitts, Mean: 109.25 (sec), Std: 24.85 (sec)\n",
      "Condition: s, Phone: S4, Task: WRITE, Mean: 168.09 (sec), Std: 39.36 (sec)\n",
      "Condition: s, Phone: S4, Task: READ, Mean: 102.54 (sec), Std: 12.84 (sec)\n",
      "Condition: s, Phone: OPO, Task: Fitts, Mean: 109.72 (sec), Std: 18.19 (sec)\n",
      "Condition: s, Phone: OPO, Task: WRITE, Mean: 171.39 (sec), Std: 37.49 (sec)\n",
      "Condition: s, Phone: OPO, Task: READ, Mean: 103.43 (sec), Std: 12.66 (sec)\n",
      "Condition: s, Phone: N6, Task: Fitts, Mean: 119.78 (sec), Std: 18.12 (sec)\n",
      "Condition: s, Phone: N6, Task: WRITE, Mean: 186.08 (sec), Std: 35.05 (sec)\n",
      "Condition: s, Phone: N6, Task: READ, Mean: 102.97 (sec), Std: 10.88 (sec)\n"
     ]
    },
    {
     "data": {
      "image/png": "[encoded data removed]",
      "text/plain": [
       "<Figure size 1080x360 with 1 Axes>"
      ]
     },
     "metadata": {
      "needs_background": "light"
     },
     "output_type": "display_data"
    },
    {
     "data": {
      "image/png": "[encoded data removed]",
      "text/plain": [
       "<Figure size 1080x360 with 1 Axes>"
      ]
     },
     "metadata": {
      "needs_background": "light"
     },
     "output_type": "display_data"
    }
   ],
   "source": [
    "fig = []\n",
    "ax = []\n",
    "for i in range(0,2):\n",
    "    fig1, ax1 = plt.subplots(1, figsize=( 15,5))\n",
    "    fig.append(fig1)\n",
    "    ax.append(ax1)\n",
    "\n",
    "colors = ['#FF523E','#188D6C','#6499FF','#FFAC33']\n",
    "width= 0.2\n",
    "patches = []\n",
    "for i in range(len(colors)):\n",
    "    patch = mpatches.Patch(color=colors[i], label=phones[i])\n",
    "    patches.append(patch)\n",
    "### walk through time_dicts and plot mean and std for every phone and task\n",
    "for y,c in enumerate([\"w\",\"s\"]):\n",
    "    temp_dict = time_dict[c]\n",
    "    p = 0\n",
    "    ticks = []\n",
    "    for phone, task_dict in temp_dict.items():\n",
    "        for i, t in enumerate(tasks):\n",
    "            #if c == \"w\":\n",
    "             #   ax[y].set_title(\"Task Lengths Walking\")\n",
    "            #else:\n",
    "            #    ax[y].set_title(\"Task Lengths Seated\")\n",
    "            xpos = float(i)+(float(p)*width)\n",
    "            #print(c, phone, pos)\n",
    "            times = task_dict[t]\n",
    "            time_mean = np.mean(times)\n",
    "            time_std = np.std(times)\n",
    "            ticks.append(float(i)+1.5*width)\n",
    "            ax[y].bar(xpos, time_mean/1000, yerr = time_std/1000/2 , width = width-0.05, color = colors[p], capsize = 4)\n",
    "            print(\"Condition: %s, Phone: %s, Task: %s, Mean: %s (sec), Std: %s (sec)\"%(c, phone, t, \"%.2f\"%(time_mean/1000),\"%.2f\"%(time_std/1000)))\n",
    "        p+=1\n",
    "    ax[y].set_ylabel(\"Time (sec)\")\n",
    "    ax[y].set_xticks(ticks)\n",
    "    ax[y].tick_params(labelsize=16)\n",
    "    ax[y].set_xticklabels([\"Fitts\",\"Write\",\"Read\"])\n",
    "    plt.legend(handles=patches, ncol = 4, loc=2, borderaxespad=0.)"
   ]
  },
  {
   "cell_type": "code",
   "execution_count": null,
   "metadata": {},
   "outputs": [],
   "source": []
  }
 ],
 "metadata": {
  "kernelspec": {
   "display_name": "Python 3",
   "language": "python",
   "name": "python3"
  },
  "language_info": {
   "codemirror_mode": {
    "name": "ipython",
    "version": 3
   },
   "file_extension": ".py",
   "mimetype": "text/x-python",
   "name": "python",
   "nbconvert_exporter": "python",
   "pygments_lexer": "ipython3",
   "version": "3.6.8"
  }
 },
 "nbformat": 4,
 "nbformat_minor": 2
}
