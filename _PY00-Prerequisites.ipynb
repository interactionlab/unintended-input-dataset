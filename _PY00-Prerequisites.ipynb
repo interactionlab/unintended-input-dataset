{
 "cells": [
  {
   "cell_type": "markdown",
   "metadata": {},
   "source": [
    "# Make all necessary directories and download the dataset"
   ]
  },
  {
   "cell_type": "code",
   "execution_count": 1,
   "metadata": {},
   "outputs": [
    {
     "name": "stdout",
     "output_type": "stream",
     "text": [
      "mkdir: cannot create directory ‘raw-data’: File exists\n",
      "mkdir: cannot create directory ‘raw_data_phone’: File exists\n",
      "mkdir: cannot create directory ‘Pickles’: File exists\n",
      "mkdir: cannot create directory ‘TransformedPickles’: File exists\n",
      "mkdir: cannot create directory ‘data’: File exists\n",
      "mkdir: cannot create directory ‘out’: File exists\n",
      "mkdir: cannot create directory ‘figures’: File exists\n",
      "mkdir: cannot create directory ‘DraggingPickles’: File exists\n",
      "mkdir: cannot create directory ‘heatmaps’: File exists\n"
     ]
    }
   ],
   "source": [
    "!mkdir raw-data\n",
    "!mkdir raw_data_phone\n",
    "!mkdir Pickles\n",
    "!mkdir TransformedPickles\n",
    "!mkdir data\n",
    "\n",
    "!mkdir out\n",
    "!mkdir figures\n",
    "!mkdir DraggingPickles\n",
    "!mkdir heatmaps"
   ]
  },
  {
   "cell_type": "markdown",
   "metadata": {},
   "source": [
    "### Motion capturing dataset"
   ]
  },
  {
   "cell_type": "code",
   "execution_count": 2,
   "metadata": {},
   "outputs": [
    {
     "name": "stdout",
     "output_type": "stream",
     "text": [
      "--2020-03-08 18:38:46--  https://www.dropbox.com/s/j2ws0ow7rfs6yhg/mocap_dataset.zip?dl=0\n",
      "Resolving www.dropbox.com (www.dropbox.com)... 2620:100:6022:1::a27d:4201, 162.125.66.1\n",
      "Connecting to www.dropbox.com (www.dropbox.com)|2620:100:6022:1::a27d:4201|:443... connected.\n",
      "HTTP request sent, awaiting response... 301 Moved Permanently\n",
      "Location: /s/raw/j2ws0ow7rfs6yhg/mocap_dataset.zip [following]\n",
      "--2020-03-08 18:38:46--  https://www.dropbox.com/s/raw/j2ws0ow7rfs6yhg/mocap_dataset.zip\n",
      "Reusing existing connection to [www.dropbox.com]:443.\n",
      "HTTP request sent, awaiting response... 302 Found\n",
      "Location: https://uc2a13d42ab6ca5204595d21c37d.dl.dropboxusercontent.com/cd/0/inline/AzhHwldAMhKYd0ZJ9Pn92-lb7as8NqOBd5XK8mjkzAp8txjxL2STj5-89N_e6FaxnHYFgeJUSm7NW-MbtgiiDfxElnshnK_DkLNxi9HiUix-2jpGTYuE43BFav7xmOvgW7A/file# [following]\n",
      "--2020-03-08 18:38:46--  https://uc2a13d42ab6ca5204595d21c37d.dl.dropboxusercontent.com/cd/0/inline/AzhHwldAMhKYd0ZJ9Pn92-lb7as8NqOBd5XK8mjkzAp8txjxL2STj5-89N_e6FaxnHYFgeJUSm7NW-MbtgiiDfxElnshnK_DkLNxi9HiUix-2jpGTYuE43BFav7xmOvgW7A/file\n",
      "Resolving uc2a13d42ab6ca5204595d21c37d.dl.dropboxusercontent.com (uc2a13d42ab6ca5204595d21c37d.dl.dropboxusercontent.com)... 2620:100:6022:6::a27d:4206, 162.125.66.6\n",
      "Connecting to uc2a13d42ab6ca5204595d21c37d.dl.dropboxusercontent.com (uc2a13d42ab6ca5204595d21c37d.dl.dropboxusercontent.com)|2620:100:6022:6::a27d:4206|:443... connected.\n",
      "HTTP request sent, awaiting response... 302 FOUND\n",
      "Location: /cd/0/inline2/AziYmSaAQF_VAhJU2KkMhB-wzsLsPowRvEx70yOaYX8I-zgfbvVa3cD00KRoy74dAouCRNatnO1RsKCl9vEk5EJ64yNnKDDhbY6K_wAd8gwRLLVAAOjyGGepjYkOMBzJFmoNbi0zWCNOrfUEJbsviv05mB5RVMwQWop0rDs4LBFShv-SWnqnsSlRKcOglZR_FObz3U3oQTrBoTAbz3OrkhmTfrzkZU3P9glvv6ntgecgLGZe_ZR0kLCm_Y5kM-H9jLyu6_Busj2T6ueinl2LMOAYQmwoyaEXrXmiQii04pyorFDYtKgBqaZCIN5Mr4TwuDhyaYTddbFjh9Vi7a_6ixH2zKG_PvTkubnjGdXJV2eICQ/file [following]\n",
      "--2020-03-08 18:38:47--  https://uc2a13d42ab6ca5204595d21c37d.dl.dropboxusercontent.com/cd/0/inline2/AziYmSaAQF_VAhJU2KkMhB-wzsLsPowRvEx70yOaYX8I-zgfbvVa3cD00KRoy74dAouCRNatnO1RsKCl9vEk5EJ64yNnKDDhbY6K_wAd8gwRLLVAAOjyGGepjYkOMBzJFmoNbi0zWCNOrfUEJbsviv05mB5RVMwQWop0rDs4LBFShv-SWnqnsSlRKcOglZR_FObz3U3oQTrBoTAbz3OrkhmTfrzkZU3P9glvv6ntgecgLGZe_ZR0kLCm_Y5kM-H9jLyu6_Busj2T6ueinl2LMOAYQmwoyaEXrXmiQii04pyorFDYtKgBqaZCIN5Mr4TwuDhyaYTddbFjh9Vi7a_6ixH2zKG_PvTkubnjGdXJV2eICQ/file\n",
      "Reusing existing connection to [uc2a13d42ab6ca5204595d21c37d.dl.dropboxusercontent.com]:443.\n",
      "HTTP request sent, awaiting response... 200 OK\n",
      "Length: 6512245364 (6.1G) [application/zip]\n",
      "Saving to: ‘./raw-data/mocap_dataset.zip’\n",
      "\n",
      "data/mocap_dataset.   0%[                    ]  35.04M  9.22MB/s    eta 11m 12s^C\n",
      "Archive:  ./raw-data/mocap_dataset.zip\n",
      "  End-of-central-directory signature not found.  Either this file is not\n",
      "  a zipfile, or it constitutes one disk of a multi-part archive.  In the\n",
      "  latter case the central directory and zipfile comment will be found on\n",
      "  the last disk(s) of this archive.\n",
      "unzip:  cannot find zipfile directory in one of ./raw-data/mocap_dataset.zip or\n",
      "        ./raw-data/mocap_dataset.zip.zip, and cannot find ./raw-data/mocap_dataset.zip.ZIP, period.\n"
     ]
    }
   ],
   "source": [
    "!wget -O ./raw-data/mocap_dataset.zip https://www.dropbox.com/s/j2ws0ow7rfs6yhg/mocap_dataset.zip?dl=0\n",
    "!unzip ./raw-data/mocap_dataset.zip -d ./raw-data/\n",
    "!rm ./raw-data/mocap_dataset.zip"
   ]
  },
  {
   "cell_type": "markdown",
   "metadata": {},
   "source": [
    "### Phone dataset"
   ]
  },
  {
   "cell_type": "code",
   "execution_count": null,
   "metadata": {},
   "outputs": [
    {
     "name": "stdout",
     "output_type": "stream",
     "text": [
      "--2020-03-08 18:38:56--  https://www.dropbox.com/s/n20u97f537aae0q/phone_dataset.zip?dl=0\n",
      "Resolving www.dropbox.com (www.dropbox.com)... 2620:100:6022:1::a27d:4201, 162.125.66.1\n",
      "Connecting to www.dropbox.com (www.dropbox.com)|2620:100:6022:1::a27d:4201|:443... connected.\n",
      "HTTP request sent, awaiting response... 301 Moved Permanently\n",
      "Location: /s/raw/n20u97f537aae0q/phone_dataset.zip [following]\n",
      "--2020-03-08 18:38:56--  https://www.dropbox.com/s/raw/n20u97f537aae0q/phone_dataset.zip\n",
      "Reusing existing connection to [www.dropbox.com]:443.\n",
      "HTTP request sent, awaiting response... 302 Found\n",
      "Location: https://uca54007fe49958252a38ca3458e.dl.dropboxusercontent.com/cd/0/inline/AzgIIrC9t3ejC1st3h84bK2yG0TgG7rzJ4_qB5OescNQCxcvN6ejnsFR094u9t0kYUkOb8bF1v0L_UkORq_dg0MV5WzZj7wRHuv8NWk2YCM2ChYeknruPRk4_IeErJLjGeA/file# [following]\n",
      "--2020-03-08 18:38:56--  https://uca54007fe49958252a38ca3458e.dl.dropboxusercontent.com/cd/0/inline/AzgIIrC9t3ejC1st3h84bK2yG0TgG7rzJ4_qB5OescNQCxcvN6ejnsFR094u9t0kYUkOb8bF1v0L_UkORq_dg0MV5WzZj7wRHuv8NWk2YCM2ChYeknruPRk4_IeErJLjGeA/file\n",
      "Resolving uca54007fe49958252a38ca3458e.dl.dropboxusercontent.com (uca54007fe49958252a38ca3458e.dl.dropboxusercontent.com)... 2620:100:6022:6::a27d:4206, 162.125.66.6\n",
      "Connecting to uca54007fe49958252a38ca3458e.dl.dropboxusercontent.com (uca54007fe49958252a38ca3458e.dl.dropboxusercontent.com)|2620:100:6022:6::a27d:4206|:443... connected.\n",
      "HTTP request sent, awaiting response... 302 FOUND\n",
      "Location: /cd/0/inline2/Azhld7dh0iA3HVHEBhWUVsVpn_D3-Yza8weMxOVjX1My6jcDm21Ag3rwdUjJGDq-S2IE3Ovj4Is8S5eYE6V_GBMha-DTMF-9drPLrXkSolbhpTlLEJr-DCIxrXvhon-rGAQdowAjk0wPFRpK1RWZsnh8GGX3Uz58B7XzfrwNgTP7F593UvXxkV-f4gml49tmUlsz6CaCfuBbFUBVm-qLVG88CLmjLZPuskusB_SqT0mTrV9_OlpUFbGCvyf3PPlCdOhuWTPJDaOItOapMXo6wN7Ni1hjH0pJxGExXZv3_ta9UpjVykqNwCAEI-qGs8I2bCH6q5pyiQ1DQJip3a6xyPMsS9cOBm-8H9zshP35PYeSBg/file [following]\n",
      "--2020-03-08 18:38:57--  https://uca54007fe49958252a38ca3458e.dl.dropboxusercontent.com/cd/0/inline2/Azhld7dh0iA3HVHEBhWUVsVpn_D3-Yza8weMxOVjX1My6jcDm21Ag3rwdUjJGDq-S2IE3Ovj4Is8S5eYE6V_GBMha-DTMF-9drPLrXkSolbhpTlLEJr-DCIxrXvhon-rGAQdowAjk0wPFRpK1RWZsnh8GGX3Uz58B7XzfrwNgTP7F593UvXxkV-f4gml49tmUlsz6CaCfuBbFUBVm-qLVG88CLmjLZPuskusB_SqT0mTrV9_OlpUFbGCvyf3PPlCdOhuWTPJDaOItOapMXo6wN7Ni1hjH0pJxGExXZv3_ta9UpjVykqNwCAEI-qGs8I2bCH6q5pyiQ1DQJip3a6xyPMsS9cOBm-8H9zshP35PYeSBg/file\n",
      "Reusing existing connection to [uca54007fe49958252a38ca3458e.dl.dropboxusercontent.com]:443.\n",
      "HTTP request sent, awaiting response... 200 OK\n",
      "Length: 54717525 (52M) [application/zip]\n",
      "Saving to: ‘./raw_data_phone/phone_dataset.zip’\n",
      "\n",
      "./raw_data_phone/ph 100%[===================>]  52.18M  52.8MB/s    in 1.0s    \n",
      "\n",
      "2020-03-08 18:38:58 (52.8 MB/s) - ‘./raw_data_phone/phone_dataset.zip’ saved [54717525/54717525]\n",
      "\n",
      "Archive:  ./raw_data_phone/phone_dataset.zip\n",
      "replace ./raw_data_phone/phone_dataset/P8/files/StudyRun8_GT-I9505_seated_SCROLL_H.txt? [y]es, [n]o, [A]ll, [N]one, [r]ename: "
     ]
    }
   ],
   "source": [
    "!wget -O ./raw_data_phone/phone_dataset.zip https://www.dropbox.com/s/n20u97f537aae0q/phone_dataset.zip?dl=0\n",
    "!unzip ./raw_data_phone/phone_dataset.zip -d ./raw_data_phone/\n",
    "!mv ./raw_data_phone/phone_dataset/timestamp_adjusted ./raw_data_phone/\n",
    "!rm ./raw_data_phone/phone_dataset.zip"
   ]
  },
  {
   "cell_type": "markdown",
   "metadata": {},
   "source": [
    "### Install packaged "
   ]
  },
  {
   "cell_type": "code",
   "execution_count": 9,
   "metadata": {},
   "outputs": [
    {
     "name": "stdout",
     "output_type": "stream",
     "text": [
      "Defaulting to user installation because normal site-packages is not writeable\n",
      "Requirement already satisfied: numpy>=1.17.0 in /usr/local/lib/python3.6/dist-packages (from -r requirements.txt (line 1)) (1.17.0)\n",
      "Requirement already satisfied: pandas>=0.25.0 in /usr/local/lib/python3.6/dist-packages (from -r requirements.txt (line 2)) (0.25.0)\n",
      "Requirement already satisfied: pandarallel>=1.4.6 in /usr/local/lib/python3.6/dist-packages (from -r requirements.txt (line 3)) (1.4.6)\n",
      "Requirement already satisfied: scipy>=1.3.1 in /usr/local/lib/python3.6/dist-packages (from -r requirements.txt (line 4)) (1.3.1)\n",
      "Requirement already satisfied: matplotlib>=3.1.3 in /usr/local/lib/python3.6/dist-packages (from -r requirements.txt (line 5)) (3.1.3)\n",
      "Requirement already satisfied: scikit-image>=0.15.0 in /usr/local/lib/python3.6/dist-packages (from -r requirements.txt (line 6)) (0.15.0)\n",
      "Requirement already satisfied: scikit-learn>=0.21.3 in /usr/local/lib/python3.6/dist-packages (from -r requirements.txt (line 7)) (0.21.3)\n",
      "Requirement already satisfied: python-dateutil>=2.6.1 in /usr/local/lib/python3.6/dist-packages (from pandas>=0.25.0->-r requirements.txt (line 2)) (2.8.0)\n",
      "Requirement already satisfied: pytz>=2017.2 in /usr/local/lib/python3.6/dist-packages (from pandas>=0.25.0->-r requirements.txt (line 2)) (2019.2)\n",
      "Requirement already satisfied: dill in /usr/local/lib/python3.6/dist-packages (from pandarallel>=1.4.6->-r requirements.txt (line 3)) (0.3.1.1)\n",
      "Requirement already satisfied: cycler>=0.10 in /usr/local/lib/python3.6/dist-packages (from matplotlib>=3.1.3->-r requirements.txt (line 5)) (0.10.0)\n",
      "Requirement already satisfied: pyparsing!=2.0.4,!=2.1.2,!=2.1.6,>=2.0.1 in /usr/local/lib/python3.6/dist-packages (from matplotlib>=3.1.3->-r requirements.txt (line 5)) (2.4.2)\n",
      "Requirement already satisfied: kiwisolver>=1.0.1 in /usr/local/lib/python3.6/dist-packages (from matplotlib>=3.1.3->-r requirements.txt (line 5)) (1.1.0)\n",
      "Requirement already satisfied: PyWavelets>=0.4.0 in /usr/local/lib/python3.6/dist-packages (from scikit-image>=0.15.0->-r requirements.txt (line 6)) (1.0.3)\n",
      "Requirement already satisfied: pillow>=4.3.0 in /usr/local/lib/python3.6/dist-packages (from scikit-image>=0.15.0->-r requirements.txt (line 6)) (6.1.0)\n",
      "Requirement already satisfied: networkx>=2.0 in /usr/local/lib/python3.6/dist-packages (from scikit-image>=0.15.0->-r requirements.txt (line 6)) (2.3)\n",
      "Requirement already satisfied: imageio>=2.0.1 in /usr/local/lib/python3.6/dist-packages (from scikit-image>=0.15.0->-r requirements.txt (line 6)) (2.5.0)\n",
      "Requirement already satisfied: joblib>=0.11 in /usr/local/lib/python3.6/dist-packages (from scikit-learn>=0.21.3->-r requirements.txt (line 7)) (0.13.2)\n",
      "Requirement already satisfied: six>=1.5 in /usr/local/lib/python3.6/dist-packages (from python-dateutil>=2.6.1->pandas>=0.25.0->-r requirements.txt (line 2)) (1.12.0)\n",
      "Requirement already satisfied: setuptools in /usr/local/lib/python3.6/dist-packages (from kiwisolver>=1.0.1->matplotlib>=3.1.3->-r requirements.txt (line 5)) (41.0.1)\n",
      "Requirement already satisfied: decorator>=4.3.0 in /usr/local/lib/python3.6/dist-packages (from networkx>=2.0->scikit-image>=0.15.0->-r requirements.txt (line 6)) (4.4.0)\n"
     ]
    }
   ],
   "source": [
    "! pip3 install -r requirements.txt"
   ]
  },
  {
   "cell_type": "code",
   "execution_count": null,
   "metadata": {},
   "outputs": [],
   "source": []
  }
 ],
 "metadata": {
  "kernelspec": {
   "display_name": "Python 3",
   "language": "python",
   "name": "python3"
  },
  "language_info": {
   "codemirror_mode": {
    "name": "ipython",
    "version": 3
   },
   "file_extension": ".py",
   "mimetype": "text/x-python",
   "name": "python",
   "nbconvert_exporter": "python",
   "pygments_lexer": "ipython3",
   "version": "3.6.8"
  }
 },
 "nbformat": 4,
 "nbformat_minor": 4
}
