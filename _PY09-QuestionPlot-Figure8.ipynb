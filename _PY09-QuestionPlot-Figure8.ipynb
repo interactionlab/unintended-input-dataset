{
 "cells": [
  {
   "cell_type": "code",
   "execution_count": 1,
   "metadata": {},
   "outputs": [],
   "source": [
    "import numpy as np\n",
    "import pandas as pd\n",
    "import matplotlib.patches as mpatches\n",
    "import matplotlib.pyplot as plt\n",
    "from matplotlib.patches import Rectangle"
   ]
  },
  {
   "cell_type": "code",
   "execution_count": 2,
   "metadata": {},
   "outputs": [
    {
     "data": {
      "text/html": [
       "<div>\n",
       "<style scoped>\n",
       "    .dataframe tbody tr th:only-of-type {\n",
       "        vertical-align: middle;\n",
       "    }\n",
       "\n",
       "    .dataframe tbody tr th {\n",
       "        vertical-align: top;\n",
       "    }\n",
       "\n",
       "    .dataframe thead th {\n",
       "        text-align: right;\n",
       "    }\n",
       "</style>\n",
       "<table border=\"1\" class=\"dataframe\">\n",
       "  <thead>\n",
       "    <tr style=\"text-align: right;\">\n",
       "      <th></th>\n",
       "      <th>cond</th>\n",
       "      <th>phone</th>\n",
       "      <th>tlx1_mean</th>\n",
       "      <th>tlx2_mean</th>\n",
       "      <th>tlx3_mean</th>\n",
       "      <th>tlx4_mean</th>\n",
       "      <th>tlx5_mean</th>\n",
       "      <th>tlx6_mean</th>\n",
       "      <th>tlx_totalScore_mean</th>\n",
       "      <th>tlx1_std</th>\n",
       "      <th>tlx2_std</th>\n",
       "      <th>tlx3_std</th>\n",
       "      <th>tlx4_std</th>\n",
       "      <th>tlx5_std</th>\n",
       "      <th>tlx6_std</th>\n",
       "      <th>tlx_totalScore_std</th>\n",
       "    </tr>\n",
       "  </thead>\n",
       "  <tbody>\n",
       "    <tr>\n",
       "      <th>2</th>\n",
       "      <td>seated</td>\n",
       "      <td>S3</td>\n",
       "      <td>6.166667</td>\n",
       "      <td>4.750000</td>\n",
       "      <td>7.623333</td>\n",
       "      <td>6.523333</td>\n",
       "      <td>7.730000</td>\n",
       "      <td>6.246667</td>\n",
       "      <td>6.503333</td>\n",
       "      <td>3.099054</td>\n",
       "      <td>1.371532</td>\n",
       "      <td>2.886526</td>\n",
       "      <td>1.185088</td>\n",
       "      <td>2.780054</td>\n",
       "      <td>2.681797</td>\n",
       "      <td>1.703066</td>\n",
       "    </tr>\n",
       "    <tr>\n",
       "      <th>3</th>\n",
       "      <td>seated</td>\n",
       "      <td>S4</td>\n",
       "      <td>6.186667</td>\n",
       "      <td>5.290000</td>\n",
       "      <td>7.166667</td>\n",
       "      <td>6.830000</td>\n",
       "      <td>7.143333</td>\n",
       "      <td>4.770000</td>\n",
       "      <td>6.233333</td>\n",
       "      <td>2.252672</td>\n",
       "      <td>1.607389</td>\n",
       "      <td>3.105774</td>\n",
       "      <td>2.167648</td>\n",
       "      <td>0.655312</td>\n",
       "      <td>1.737268</td>\n",
       "      <td>1.321981</td>\n",
       "    </tr>\n",
       "    <tr>\n",
       "      <th>1</th>\n",
       "      <td>seated</td>\n",
       "      <td>OPO</td>\n",
       "      <td>5.666667</td>\n",
       "      <td>7.313333</td>\n",
       "      <td>7.710000</td>\n",
       "      <td>7.126667</td>\n",
       "      <td>9.253333</td>\n",
       "      <td>6.063333</td>\n",
       "      <td>7.190000</td>\n",
       "      <td>1.966655</td>\n",
       "      <td>3.235836</td>\n",
       "      <td>2.380315</td>\n",
       "      <td>0.546016</td>\n",
       "      <td>0.994049</td>\n",
       "      <td>0.786914</td>\n",
       "      <td>0.020000</td>\n",
       "    </tr>\n",
       "    <tr>\n",
       "      <th>0</th>\n",
       "      <td>seated</td>\n",
       "      <td>N6</td>\n",
       "      <td>7.103333</td>\n",
       "      <td>9.956667</td>\n",
       "      <td>8.436667</td>\n",
       "      <td>8.980000</td>\n",
       "      <td>10.936667</td>\n",
       "      <td>8.833333</td>\n",
       "      <td>9.043333</td>\n",
       "      <td>2.513371</td>\n",
       "      <td>3.792695</td>\n",
       "      <td>1.128819</td>\n",
       "      <td>0.695485</td>\n",
       "      <td>1.096373</td>\n",
       "      <td>1.832112</td>\n",
       "      <td>0.650026</td>\n",
       "    </tr>\n",
       "    <tr>\n",
       "      <th>6</th>\n",
       "      <td>walking</td>\n",
       "      <td>S3</td>\n",
       "      <td>6.880000</td>\n",
       "      <td>6.456667</td>\n",
       "      <td>6.896667</td>\n",
       "      <td>8.163333</td>\n",
       "      <td>8.166667</td>\n",
       "      <td>6.500000</td>\n",
       "      <td>7.176667</td>\n",
       "      <td>3.500000</td>\n",
       "      <td>2.908476</td>\n",
       "      <td>2.687124</td>\n",
       "      <td>2.501126</td>\n",
       "      <td>3.623456</td>\n",
       "      <td>4.283783</td>\n",
       "      <td>2.818534</td>\n",
       "    </tr>\n",
       "  </tbody>\n",
       "</table>\n",
       "</div>"
      ],
      "text/plain": [
       "      cond phone  tlx1_mean  tlx2_mean  tlx3_mean  tlx4_mean  tlx5_mean  \\\n",
       "2   seated    S3   6.166667   4.750000   7.623333   6.523333   7.730000   \n",
       "3   seated    S4   6.186667   5.290000   7.166667   6.830000   7.143333   \n",
       "1   seated   OPO   5.666667   7.313333   7.710000   7.126667   9.253333   \n",
       "0   seated    N6   7.103333   9.956667   8.436667   8.980000  10.936667   \n",
       "6  walking    S3   6.880000   6.456667   6.896667   8.163333   8.166667   \n",
       "\n",
       "   tlx6_mean  tlx_totalScore_mean  tlx1_std  tlx2_std  tlx3_std  tlx4_std  \\\n",
       "2   6.246667             6.503333  3.099054  1.371532  2.886526  1.185088   \n",
       "3   4.770000             6.233333  2.252672  1.607389  3.105774  2.167648   \n",
       "1   6.063333             7.190000  1.966655  3.235836  2.380315  0.546016   \n",
       "0   8.833333             9.043333  2.513371  3.792695  1.128819  0.695485   \n",
       "6   6.500000             7.176667  3.500000  2.908476  2.687124  2.501126   \n",
       "\n",
       "   tlx5_std  tlx6_std  tlx_totalScore_std  \n",
       "2  2.780054  2.681797            1.703066  \n",
       "3  0.655312  1.737268            1.321981  \n",
       "1  0.994049  0.786914            0.020000  \n",
       "0  1.096373  1.832112            0.650026  \n",
       "6  3.623456  4.283783            2.818534  "
      ]
     },
     "execution_count": 2,
     "metadata": {},
     "output_type": "execute_result"
    }
   ],
   "source": [
    "df = pd.read_pickle(\"./data/tlx_final_total_score_2.pkl\")\n",
    "columns = df.columns.tolist()\n",
    "new_columns = [\"cond\", \"phone\"]\n",
    "mean = []\n",
    "std = []\n",
    "for c in columns[2:]:\n",
    "    if \"mean\" in c:\n",
    "        mean.append(c)\n",
    "    else:\n",
    "        std.append(c)\n",
    "        \n",
    "new_columns = new_columns + mean + std\n",
    "df = df[new_columns]\n",
    "df = df.reindex([2,3,1,0,6,7,5,4])\n",
    "df_list = df.values.tolist()\n",
    "df_list_w = df_list[4:]\n",
    "df_list_s = df_list[:4]\n",
    "\n",
    "df_dict = {\"seated\":df_list_s, \"walking\":df_list_w}\n",
    "df.head()"
   ]
  },
  {
   "cell_type": "code",
   "execution_count": 3,
   "metadata": {
    "scrolled": true
   },
   "outputs": [],
   "source": [
    "df_w = df[df.cond == \"walking\"]\n",
    "df_s = df[df.cond == \"seated\"]"
   ]
  },
  {
   "cell_type": "code",
   "execution_count": 4,
   "metadata": {},
   "outputs": [
    {
     "name": "stdout",
     "output_type": "stream",
     "text": [
      "Saving to: ./figures/TLX_total_scores.pdf\n"
     ]
    },
    {
     "data": {
      "image/png": "[encoded data removed]",
      "text/plain": [
       "<Figure size 288x144 with 1 Axes>"
      ]
     },
     "metadata": {
      "needs_background": "light"
     },
     "output_type": "display_data"
    }
   ],
   "source": [
    "space = 0.3\n",
    "\n",
    "phones = [\"S3\",\"S4\",\"OPO\",\"N6\"]\n",
    "conditions = ['seated','walking']\n",
    "#print(\"Phones: %s\"% phones)\n",
    "#colors = ['#202a34','#00adff','#3b6521','#83b5c7','#00fdff','#3bff21','#12b5c7']\n",
    "#colors = ['#b2182b','#ef8a62','#fddbc7','#f7f7f7','#d1e5f0','#67a9cf','#2166ac']\n",
    "colors = ['#FF523E','#188D6C','#6499FF','#FFAC33']\n",
    "tasks = ['TotalScore']\n",
    "patches = []\n",
    "for i in range(len(colors)):\n",
    "    patch = mpatches.Patch(color=colors[i], label=phones[i], )\n",
    "    patches.append(patch)\n",
    "\n",
    "    \n",
    "fig, ax = plt.subplots(1, figsize=(4, 2))\n",
    "\n",
    "plt.tick_params(axis='both', which='major', labelsize=8)\n",
    "plt.tick_params(axis='both', which='minor', labelsize=8)\n",
    "\n",
    "patches = []\n",
    "for i in range(len(colors)):\n",
    "    patch = mpatches.Patch(color=colors[i], label=phones[i])\n",
    "    patches.append(patch)\n",
    "plt.legend(handles= patches, ncol = 4, loc='upper center', bbox_to_anchor = (0.5, 0.975), borderaxespad=0., fontsize=8) \n",
    "\n",
    "xticks = []\n",
    "for y,c in enumerate(conditions):\n",
    "    dfpoints = np.array(df_dict[c])\n",
    "    \n",
    "    xticks.append(float(y) * 1.5 + 0.45)\n",
    "    \n",
    "    for i,phone in enumerate(phones):\n",
    "        vals = dfpoints[i][8:9].astype(np.float)\n",
    "        errors = dfpoints[i][15:].astype(np.float)\n",
    "\n",
    "        if c == \"seated\":\n",
    "            pos = 0 + i*0.3\n",
    "            ax.bar(pos, vals, yerr = errors/2, width = space-0.05, label = phones[i],color =colors[i], capsize=3)\n",
    "        else:\n",
    "            pos = 1.5 + i * 0.3\n",
    "            ax.bar(pos, vals, yerr = errors/2, width = space-0.05, label = phones[i],color =colors[i], capsize=3)\n",
    "    \n",
    "    ax.set_ylabel(\"Raw TLX Score\", fontsize=8)\n",
    "    ax.set_aspect('auto')\n",
    "    ax.set_ylim(0,20)\n",
    "    ax.set_xticks(xticks)\n",
    "    ax.set_xticklabels([\"Sitting\", \"Walking\"], fontsize=8)\n",
    "    \n",
    "filename = \"./figures/TLX_total_scores.pdf\"\n",
    "print(\"Saving to: %s\"%filename)\n",
    "fig.savefig(\"%s\"%filename, bbox_inches=\"tight\")"
   ]
  },
  {
   "cell_type": "code",
   "execution_count": 5,
   "metadata": {},
   "outputs": [],
   "source": [
    "likert_df = pd.read_csv(\"./data/Likert_result.csv\")"
   ]
  },
  {
   "cell_type": "code",
   "execution_count": 6,
   "metadata": {},
   "outputs": [],
   "source": [
    "for c in likert_df.columns:\n",
    "    if \"tlx\" in c:\n",
    "        likert_df = likert_df.drop(c,axis=1)"
   ]
  },
  {
   "cell_type": "code",
   "execution_count": 7,
   "metadata": {
    "scrolled": true
   },
   "outputs": [
    {
     "name": "stdout",
     "output_type": "stream",
     "text": [
      "Exporting to: ./figures/likert_questionnaire_seated.pdf\n",
      "Exporting to: ./figures/likert_questionnaire_walking.pdf\n"
     ]
    },
    {
     "data": {
      "image/png": "[encoded data removed]",
      "text/plain": [
       "<Figure size 288x144 with 1 Axes>"
      ]
     },
     "metadata": {
      "needs_background": "light"
     },
     "output_type": "display_data"
    },
    {
     "data": {
      "image/png": "[encoded data removed]",
      "text/plain": [
       "<Figure size 288x144 with 1 Axes>"
      ]
     },
     "metadata": {
      "needs_background": "light"
     },
     "output_type": "display_data"
    }
   ],
   "source": [
    "width = 0.22\n",
    "\n",
    "phones = [\"S3\",\"S4\",\"OPO\",\"N6\"]\n",
    "conditions = ['seated',\"walking\"]\n",
    "questions = [\"question1\",\"question2\",\"question3\",\"question4\",\"question5\"]\n",
    "colors = ['#FF523E','#188D6C','#6499FF','#FFAC33']\n",
    "\n",
    "\n",
    "fig = []\n",
    "ax=[]\n",
    "for i in range(0,2):\n",
    "    fig1,ax1 = plt.subplots(1, figsize=(4, 2))\n",
    "    fig.append(fig1)\n",
    "    ax.append(ax1)\n",
    "\n",
    "for i,c in enumerate(conditions):\n",
    "    ax[i].tick_params(axis='both', which='major', labelsize=8)\n",
    "    ax[i].tick_params(axis='both', which='minor', labelsize=8)\n",
    "    ticks= []\n",
    "    for y,p in enumerate(phones):\n",
    "        for k,q in enumerate(questions):\n",
    "            pos = y*width + k \n",
    "            q_list = likert_df[(likert_df.Phone == p)&(likert_df.Cond == c)][q].values\n",
    "            if q == \"question1\":\n",
    "                q_list = 7 - q_list\n",
    "                ax[i].bar(pos,q_list.mean().round(1), yerr = q_list.std()/2, width = width-0.05, capsize = 2, color = colors[y])\n",
    "            else:\n",
    "                ax[i].bar(pos,q_list.mean().round(1), yerr = q_list.std()/2, width = width-0.05, capsize = 2, color = colors[y])\n",
    "            ticks.append(float(k)+1.5*width)\n",
    "    ax[i].set_ylabel(\"Likert Score\", fontsize=8)\n",
    "    ax[i].set_ylim(1,7)\n",
    "    ax[i].set_yticks(np.arange(1, 8))\n",
    "    ax[i].set_xticks(ticks)\n",
    "    ax[i].set_xticklabels([\"Easiness\",\"Speed\",\"Success\",\"Accuracy\",\"Comfort\"], fontsize=8)\n",
    "    filename = \"./figures/likert_questionnaire_%s.pdf\"%c\n",
    "    print(\"Exporting to: %s\"%filename)\n",
    "    fig[i].savefig(filename, bbox_inches=\"tight\")\n",
    "\n"
   ]
  }
 ],
 "metadata": {
  "kernelspec": {
   "display_name": "Python 3",
   "language": "python",
   "name": "python3"
  },
  "language_info": {
   "codemirror_mode": {
    "name": "ipython",
    "version": 3
   },
   "file_extension": ".py",
   "mimetype": "text/x-python",
   "name": "python",
   "nbconvert_exporter": "python",
   "pygments_lexer": "ipython3",
   "version": "3.6.8"
  }
 },
 "nbformat": 4,
 "nbformat_minor": 2
}
