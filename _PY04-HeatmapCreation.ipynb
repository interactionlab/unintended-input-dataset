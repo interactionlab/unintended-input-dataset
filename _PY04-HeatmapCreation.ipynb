{
 "cells": [
  {
   "cell_type": "code",
   "execution_count": 1,
   "metadata": {
    "nbpresent": {
     "id": "d1fc60df-b2d5-45e7-b120-19786e900a2b"
    }
   },
   "outputs": [],
   "source": [
    "%run py/constants.py\n",
    "%run py/take_processing_methods.py\n",
    "%run py/marker_processing_methods.py\n",
    "%run py/heatmap_methods.py\n",
    "%run py/grasp_property_methods.py\n",
    "%run py/rasterization_methods.py"
   ]
  },
  {
   "cell_type": "markdown",
   "metadata": {
    "nbpresent": {
     "id": "9c19f3fc-3459-453e-b0f6-d45b9356c33c"
    }
   },
   "source": [
    "##### <font color=\"green\">Scripts to create heatmaps or debug images from all takes</font>\n",
    "##### Duration ~1.5h"
   ]
  },
  {
   "cell_type": "code",
   "execution_count": null,
   "metadata": {
    "scrolled": true
   },
   "outputs": [
    {
     "name": "stdout",
     "output_type": "stream",
     "text": [
      "Importing /P3_N6_walking.pkl\n",
      " Done! (0.7426310000000003 sec.)\n",
      "Creating heatmaps...\n",
      "Using 94 CPU cores\n",
      "Finger Thumb, Task WRITE, device_size [0.083  0.1593 0.0101]\n",
      "Finger Index Finger, Task WRITE, device_size [0.083  0.1593 0.0101]\n",
      "Finger Middle Finger, Task WRITE, device_size [0.083  0.1593 0.0101]\n",
      "Finger Ring Finger, Task WRITE, device_size [0.083  0.1593 0.0101]\n",
      "Finger Little Finger, Task WRITE, device_size [0.083  0.1593 0.0101]\n",
      " Done! (9.413528 sec.)\n",
      "Heatmaps saved to /heatmaps/walking/WRITE_highres/P3_n6_heatmaps.npy\n",
      "-----\n",
      "Importing /P19_S4_walking.pkl\n",
      " Done! (0.3847310000000004 sec.)\n",
      "Creating heatmaps...\n",
      "Using 94 CPU cores\n",
      "Finger Thumb, Task WRITE, device_size [0.07   0.137  0.0079]\n",
      "Finger Index Finger, Task WRITE, device_size [0.07   0.137  0.0079]\n",
      "Finger Middle Finger, Task WRITE, device_size [0.07   0.137  0.0079]\n",
      "Finger Ring Finger, Task WRITE, device_size [0.07   0.137  0.0079]\n",
      "Finger Little Finger, Task WRITE, device_size [0.07   0.137  0.0079]\n",
      " Done! (7.412341 sec.)\n",
      "Heatmaps saved to /heatmaps/walking/WRITE_highres/P19_s4_heatmaps.npy\n",
      "-----\n",
      "Importing /P10_OPO_seated.pkl\n",
      " Done! (0.5425090000000026 sec.)\n",
      "Creating heatmaps...\n",
      "Using 94 CPU cores\n",
      "Finger Thumb, Task WRITE, device_size [0.0759 0.1529 0.0089]\n",
      "Finger Index Finger, Task WRITE, device_size [0.0759 0.1529 0.0089]\n",
      "Finger Middle Finger, Task WRITE, device_size [0.0759 0.1529 0.0089]\n",
      "Finger Ring Finger, Task WRITE, device_size [0.0759 0.1529 0.0089]\n",
      "Finger Little Finger, Task WRITE, device_size [0.0759 0.1529 0.0089]\n"
     ]
    }
   ],
   "source": [
    "%%time\n",
    "%run py/heatmap_creator.py\n",
    "\n",
    "generateHeatmaps(\"WRITE\")\n",
    "generateHeatmaps(\"READ\")\n",
    "generateHeatmaps(\"Fitts\")"
   ]
  }
 ],
 "metadata": {
  "anaconda-cloud": {},
  "kernelspec": {
   "display_name": "Python 3",
   "language": "python",
   "name": "python3"
  },
  "language_info": {
   "codemirror_mode": {
    "name": "ipython",
    "version": 3
   },
   "file_extension": ".py",
   "mimetype": "text/x-python",
   "name": "python",
   "nbconvert_exporter": "python",
   "pygments_lexer": "ipython3",
   "version": "3.6.8"
  },
  "nbpresent": {
   "slides": {
    "22422ce5-1989-40e9-91b0-3a10c55e1f39": {
     "id": "22422ce5-1989-40e9-91b0-3a10c55e1f39",
     "layout": "manual",
     "prev": null,
     "regions": {
      "35f163a1-1070-4954-9f65-adc8fa97b1ec": {
       "attrs": {
        "height": 1,
        "pad": 0.01,
        "width": 1,
        "x": -0.16666666666666666,
        "y": 0.3333333333333333
       },
       "id": "35f163a1-1070-4954-9f65-adc8fa97b1ec"
      }
     }
    }
   },
   "themes": {
    "default": "679809b8-1395-425c-9f6a-6f17aa26b4a4",
    "theme": {
     "0087b32d-a282-49be-95ab-f9f99f30a85e": {
      "id": "0087b32d-a282-49be-95ab-f9f99f30a85e",
      "palette": {
       "19cc588f-0593-49c9-9f4b-e4d7cc113b1c": {
        "id": "19cc588f-0593-49c9-9f4b-e4d7cc113b1c",
        "rgb": [
         252,
         252,
         252
        ]
       },
       "31af15d2-7e15-44c5-ab5e-e04b16a89eff": {
        "id": "31af15d2-7e15-44c5-ab5e-e04b16a89eff",
        "rgb": [
         68,
         68,
         68
        ]
       },
       "50f92c45-a630-455b-aec3-788680ec7410": {
        "id": "50f92c45-a630-455b-aec3-788680ec7410",
        "rgb": [
         155,
         177,
         192
        ]
       },
       "c5cc3653-2ee1-402a-aba2-7caae1da4f6c": {
        "id": "c5cc3653-2ee1-402a-aba2-7caae1da4f6c",
        "rgb": [
         43,
         126,
         184
        ]
       },
       "efa7f048-9acb-414c-8b04-a26811511a21": {
        "id": "efa7f048-9acb-414c-8b04-a26811511a21",
        "rgb": [
         25.118061674008803,
         73.60176211453744,
         107.4819383259912
        ]
       }
      },
      "rules": {
       "blockquote": {
        "color": "50f92c45-a630-455b-aec3-788680ec7410"
       },
       "code": {
        "font-family": "Anonymous Pro"
       },
       "h1": {
        "color": "c5cc3653-2ee1-402a-aba2-7caae1da4f6c",
        "font-family": "Lato",
        "font-size": 8
       },
       "h2": {
        "color": "c5cc3653-2ee1-402a-aba2-7caae1da4f6c",
        "font-family": "Lato",
        "font-size": 6
       },
       "h3": {
        "color": "50f92c45-a630-455b-aec3-788680ec7410",
        "font-family": "Lato",
        "font-size": 5.5
       },
       "h4": {
        "color": "c5cc3653-2ee1-402a-aba2-7caae1da4f6c",
        "font-family": "Lato",
        "font-size": 5
       },
       "h5": {
        "font-family": "Lato"
       },
       "h6": {
        "font-family": "Lato"
       },
       "h7": {
        "font-family": "Lato"
       },
       "pre": {
        "font-family": "Anonymous Pro",
        "font-size": 4
       }
      },
      "text-base": {
       "font-family": "Merriweather",
       "font-size": 4
      }
     },
     "679809b8-1395-425c-9f6a-6f17aa26b4a4": {
      "backgrounds": {
       "dc7afa04-bf90-40b1-82a5-726e3cff5267": {
        "background-color": "31af15d2-7e15-44c5-ab5e-e04b16a89eff",
        "id": "dc7afa04-bf90-40b1-82a5-726e3cff5267"
       }
      },
      "id": "679809b8-1395-425c-9f6a-6f17aa26b4a4",
      "palette": {
       "19cc588f-0593-49c9-9f4b-e4d7cc113b1c": {
        "id": "19cc588f-0593-49c9-9f4b-e4d7cc113b1c",
        "rgb": [
         252,
         252,
         252
        ]
       },
       "31af15d2-7e15-44c5-ab5e-e04b16a89eff": {
        "id": "31af15d2-7e15-44c5-ab5e-e04b16a89eff",
        "rgb": [
         68,
         68,
         68
        ]
       },
       "50f92c45-a630-455b-aec3-788680ec7410": {
        "id": "50f92c45-a630-455b-aec3-788680ec7410",
        "rgb": [
         197,
         226,
         245
        ]
       },
       "c5cc3653-2ee1-402a-aba2-7caae1da4f6c": {
        "id": "c5cc3653-2ee1-402a-aba2-7caae1da4f6c",
        "rgb": [
         43,
         126,
         184
        ]
       },
       "efa7f048-9acb-414c-8b04-a26811511a21": {
        "id": "efa7f048-9acb-414c-8b04-a26811511a21",
        "rgb": [
         25.118061674008803,
         73.60176211453744,
         107.4819383259912
        ]
       }
      },
      "rules": {
       "a": {
        "color": "19cc588f-0593-49c9-9f4b-e4d7cc113b1c"
       },
       "blockquote": {
        "color": "50f92c45-a630-455b-aec3-788680ec7410",
        "font-size": 3
       },
       "code": {
        "font-family": "Anonymous Pro"
       },
       "h1": {
        "color": "19cc588f-0593-49c9-9f4b-e4d7cc113b1c",
        "font-family": "Merriweather",
        "font-size": 8
       },
       "h2": {
        "color": "19cc588f-0593-49c9-9f4b-e4d7cc113b1c",
        "font-family": "Merriweather",
        "font-size": 6
       },
       "h3": {
        "color": "50f92c45-a630-455b-aec3-788680ec7410",
        "font-family": "Lato",
        "font-size": 5.5
       },
       "h4": {
        "color": "c5cc3653-2ee1-402a-aba2-7caae1da4f6c",
        "font-family": "Lato",
        "font-size": 5
       },
       "h5": {
        "font-family": "Lato"
       },
       "h6": {
        "font-family": "Lato"
       },
       "h7": {
        "font-family": "Lato"
       },
       "li": {
        "color": "50f92c45-a630-455b-aec3-788680ec7410",
        "font-size": 3.25
       },
       "pre": {
        "font-family": "Anonymous Pro",
        "font-size": 4
       }
      },
      "text-base": {
       "color": "19cc588f-0593-49c9-9f4b-e4d7cc113b1c",
       "font-family": "Lato",
       "font-size": 4
      }
     }
    }
   }
  },
  "widgets": {
   "state": {},
   "version": "1.1.2"
  }
 },
 "nbformat": 4,
 "nbformat_minor": 1
}
