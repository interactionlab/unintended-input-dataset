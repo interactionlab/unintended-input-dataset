{
 "cells": [
  {
   "cell_type": "code",
   "execution_count": 1,
   "metadata": {},
   "outputs": [
    {
     "name": "stderr",
     "output_type": "stream",
     "text": [
      "Registered S3 methods overwritten by 'lme4':\n",
      "  method                          from\n",
      "  cooks.distance.influence.merMod car \n",
      "  influence.merMod                car \n",
      "  dfbeta.influence.merMod         car \n",
      "  dfbetas.influence.merMod        car \n",
      "\n",
      "Loading required package: carData\n",
      "\n",
      "Loading required package: multcomp\n",
      "\n",
      "Loading required package: mvtnorm\n",
      "\n",
      "Loading required package: survival\n",
      "\n",
      "Loading required package: TH.data\n",
      "\n",
      "Loading required package: MASS\n",
      "\n",
      "\n",
      "Attaching package: ‘TH.data’\n",
      "\n",
      "\n",
      "The following object is masked from ‘package:MASS’:\n",
      "\n",
      "    geyser\n",
      "\n",
      "\n"
     ]
    }
   ],
   "source": [
    "library(ez)\n",
    "library(car)\n",
    "library(nlme)\n",
    "require(multcomp)"
   ]
  },
  {
   "cell_type": "markdown",
   "metadata": {},
   "source": [
    "# Correction post publication:\n",
    "While the reported results in the paper are based on original file, we later found that the file which our results are based on was not up to date. Thus, here, we also provide the correct area sizes. The main difference to the paper is that now all the two-way interaction effects are significant. All other comparisons stayed the same."
   ]
  },
  {
   "cell_type": "code",
   "execution_count": 2,
   "metadata": {},
   "outputs": [],
   "source": [
    "df = read.csv(\"./out/Anova_Areas_total_v2.csv\")\n",
    "\n",
    "# In case you which to calculate the origianl resulst, use the follwoing file:\n",
    "#df = read.csv(\"./data/Anova_Areas_total-as-reported-in-paper.csv\")"
   ]
  },
  {
   "cell_type": "code",
   "execution_count": 3,
   "metadata": {},
   "outputs": [],
   "source": [
    "# We are interested in the grip area which are caused by the fingers on the back. \n",
    "# Thus, we exclude the thumb in our ANOVAs. \n",
    "df = df[df$Finger != \"Thumb\",]"
   ]
  },
  {
   "cell_type": "code",
   "execution_count": 4,
   "metadata": {},
   "outputs": [
    {
     "data": {
      "text/plain": [
       "      Cond        Finger         PId        Phone      TouchedArea    \n",
       " seated :256   Index :128   Min.   : 3.00   n6 :128   Min.   :   8.0  \n",
       " walking:256   Little:128   1st Qu.: 6.75   opo:128   1st Qu.: 343.8  \n",
       "               Middle:128   Median :11.50   s3 :128   Median : 507.5  \n",
       "               Ring  :128   Mean   :11.62   s4 :128   Mean   : 622.7  \n",
       "               Thumb :  0   3rd Qu.:16.25             3rd Qu.: 769.8  \n",
       "                            Max.   :21.00             Max.   :3430.0  "
      ]
     },
     "metadata": {},
     "output_type": "display_data"
    }
   ],
   "source": [
    "summary(df)"
   ]
  },
  {
   "cell_type": "code",
   "execution_count": 5,
   "metadata": {},
   "outputs": [],
   "source": [
    "df$Finger <- factor(df$Finger)\n",
    "df$Cond <- factor(df$Cond)\n",
    "df$Phone <- factor(df$Phone)\n",
    "df$PId <- factor(df$PId)"
   ]
  },
  {
   "cell_type": "markdown",
   "metadata": {},
   "source": [
    "# ANOVA on all Areas"
   ]
  },
  {
   "cell_type": "code",
   "execution_count": 6,
   "metadata": {},
   "outputs": [
    {
     "data": {
      "text/html": [
       "<dl>\n",
       "\t<dt>$ANOVA</dt>\n",
       "\t\t<dd><table>\n",
       "<caption>A data.frame: 7 × 7</caption>\n",
       "<thead>\n",
       "\t<tr><th></th><th scope=col>Effect</th><th scope=col>DFn</th><th scope=col>DFd</th><th scope=col>F</th><th scope=col>p</th><th scope=col>p&lt;.05</th><th scope=col>ges</th></tr>\n",
       "\t<tr><th></th><th scope=col>&lt;chr&gt;</th><th scope=col>&lt;dbl&gt;</th><th scope=col>&lt;dbl&gt;</th><th scope=col>&lt;dbl&gt;</th><th scope=col>&lt;dbl&gt;</th><th scope=col>&lt;chr&gt;</th><th scope=col>&lt;dbl&gt;</th></tr>\n",
       "</thead>\n",
       "<tbody>\n",
       "\t<tr><th scope=row>2</th><td>Finger           </td><td>3</td><td> 45</td><td>22.3907776</td><td>5.072824e-09</td><td>*</td><td>0.083174499</td></tr>\n",
       "\t<tr><th scope=row>3</th><td>Phone            </td><td>3</td><td> 45</td><td>21.1481881</td><td>1.073480e-08</td><td>*</td><td>0.295495493</td></tr>\n",
       "\t<tr><th scope=row>4</th><td>Cond             </td><td>1</td><td> 15</td><td> 6.7070292</td><td>2.051138e-02</td><td>*</td><td>0.043744787</td></tr>\n",
       "\t<tr><th scope=row>5</th><td>Finger:Phone     </td><td>9</td><td>135</td><td> 9.8012439</td><td>1.858350e-11</td><td>*</td><td>0.023168423</td></tr>\n",
       "\t<tr><th scope=row>6</th><td>Finger:Cond      </td><td>3</td><td> 45</td><td>13.2805638</td><td>2.427770e-06</td><td>*</td><td>0.008249642</td></tr>\n",
       "\t<tr><th scope=row>7</th><td>Phone:Cond       </td><td>3</td><td> 45</td><td> 4.2482846</td><td>1.001009e-02</td><td>*</td><td>0.070630165</td></tr>\n",
       "\t<tr><th scope=row>8</th><td>Finger:Phone:Cond</td><td>9</td><td>135</td><td> 0.8760589</td><td>5.483866e-01</td><td> </td><td>0.001866107</td></tr>\n",
       "</tbody>\n",
       "</table>\n",
       "</dd>\n",
       "\t<dt>$`Mauchly's Test for Sphericity`</dt>\n",
       "\t\t<dd><table>\n",
       "<caption>A data.frame: 6 × 4</caption>\n",
       "<thead>\n",
       "\t<tr><th></th><th scope=col>Effect</th><th scope=col>W</th><th scope=col>p</th><th scope=col>p&lt;.05</th></tr>\n",
       "\t<tr><th></th><th scope=col>&lt;chr&gt;</th><th scope=col>&lt;dbl&gt;</th><th scope=col>&lt;dbl&gt;</th><th scope=col>&lt;chr&gt;</th></tr>\n",
       "</thead>\n",
       "<tbody>\n",
       "\t<tr><th scope=row>2</th><td>Finger           </td><td>2.866449e-01</td><td>4.409249e-03</td><td>*</td></tr>\n",
       "\t<tr><th scope=row>3</th><td>Phone            </td><td>2.472517e-01</td><td>1.875975e-03</td><td>*</td></tr>\n",
       "\t<tr><th scope=row>5</th><td>Finger:Phone     </td><td>5.951455e-04</td><td>2.249464e-04</td><td>*</td></tr>\n",
       "\t<tr><th scope=row>6</th><td>Finger:Cond      </td><td>4.414216e-01</td><td>4.806434e-02</td><td>*</td></tr>\n",
       "\t<tr><th scope=row>7</th><td>Phone:Cond       </td><td>1.251066e-01</td><td>3.192876e-05</td><td>*</td></tr>\n",
       "\t<tr><th scope=row>8</th><td>Finger:Phone:Cond</td><td>2.773062e-05</td><td>6.016480e-09</td><td>*</td></tr>\n",
       "</tbody>\n",
       "</table>\n",
       "</dd>\n",
       "\t<dt>$`Sphericity Corrections`</dt>\n",
       "\t\t<dd><table>\n",
       "<caption>A data.frame: 6 × 7</caption>\n",
       "<thead>\n",
       "\t<tr><th></th><th scope=col>Effect</th><th scope=col>GGe</th><th scope=col>p[GG]</th><th scope=col>p[GG]&lt;.05</th><th scope=col>HFe</th><th scope=col>p[HF]</th><th scope=col>p[HF]&lt;.05</th></tr>\n",
       "\t<tr><th></th><th scope=col>&lt;chr&gt;</th><th scope=col>&lt;dbl&gt;</th><th scope=col>&lt;dbl&gt;</th><th scope=col>&lt;chr&gt;</th><th scope=col>&lt;dbl&gt;</th><th scope=col>&lt;dbl&gt;</th><th scope=col>&lt;chr&gt;</th></tr>\n",
       "</thead>\n",
       "<tbody>\n",
       "\t<tr><th scope=row>2</th><td>Finger           </td><td>0.6294120</td><td>2.058431e-06</td><td>*</td><td>0.7172129</td><td>4.929641e-07</td><td>*</td></tr>\n",
       "\t<tr><th scope=row>3</th><td>Phone            </td><td>0.5322061</td><td>1.517172e-05</td><td>*</td><td>0.5855710</td><td>6.588698e-06</td><td>*</td></tr>\n",
       "\t<tr><th scope=row>5</th><td>Finger:Phone     </td><td>0.4352247</td><td>4.431543e-06</td><td>*</td><td>0.6082638</td><td>9.687408e-08</td><td>*</td></tr>\n",
       "\t<tr><th scope=row>6</th><td>Finger:Cond      </td><td>0.6904253</td><td>5.788697e-05</td><td>*</td><td>0.8028741</td><td>1.820994e-05</td><td>*</td></tr>\n",
       "\t<tr><th scope=row>7</th><td>Phone:Cond       </td><td>0.4689027</td><td>3.996015e-02</td><td>*</td><td>0.5028787</td><td>3.653149e-02</td><td>*</td></tr>\n",
       "\t<tr><th scope=row>8</th><td>Finger:Phone:Cond</td><td>0.3652047</td><td>4.679992e-01</td><td> </td><td>0.4798922</td><td>4.898123e-01</td><td> </td></tr>\n",
       "</tbody>\n",
       "</table>\n",
       "</dd>\n",
       "</dl>\n"
      ],
      "text/latex": [
       "\\begin{description}\n",
       "\\item[\\$ANOVA] A data.frame: 7 × 7\n",
       "\\begin{tabular}{r|lllllll}\n",
       "  & Effect & DFn & DFd & F & p & p<.05 & ges\\\\\n",
       "  & <chr> & <dbl> & <dbl> & <dbl> & <dbl> & <chr> & <dbl>\\\\\n",
       "\\hline\n",
       "\t2 & Finger            & 3 &  45 & 22.3907776 & 5.072824e-09 & * & 0.083174499\\\\\n",
       "\t3 & Phone             & 3 &  45 & 21.1481881 & 1.073480e-08 & * & 0.295495493\\\\\n",
       "\t4 & Cond              & 1 &  15 &  6.7070292 & 2.051138e-02 & * & 0.043744787\\\\\n",
       "\t5 & Finger:Phone      & 9 & 135 &  9.8012439 & 1.858350e-11 & * & 0.023168423\\\\\n",
       "\t6 & Finger:Cond       & 3 &  45 & 13.2805638 & 2.427770e-06 & * & 0.008249642\\\\\n",
       "\t7 & Phone:Cond        & 3 &  45 &  4.2482846 & 1.001009e-02 & * & 0.070630165\\\\\n",
       "\t8 & Finger:Phone:Cond & 9 & 135 &  0.8760589 & 5.483866e-01 &   & 0.001866107\\\\\n",
       "\\end{tabular}\n",
       "\n",
       "\\item[\\$`Mauchly's Test for Sphericity`] A data.frame: 6 × 4\n",
       "\\begin{tabular}{r|llll}\n",
       "  & Effect & W & p & p<.05\\\\\n",
       "  & <chr> & <dbl> & <dbl> & <chr>\\\\\n",
       "\\hline\n",
       "\t2 & Finger            & 2.866449e-01 & 4.409249e-03 & *\\\\\n",
       "\t3 & Phone             & 2.472517e-01 & 1.875975e-03 & *\\\\\n",
       "\t5 & Finger:Phone      & 5.951455e-04 & 2.249464e-04 & *\\\\\n",
       "\t6 & Finger:Cond       & 4.414216e-01 & 4.806434e-02 & *\\\\\n",
       "\t7 & Phone:Cond        & 1.251066e-01 & 3.192876e-05 & *\\\\\n",
       "\t8 & Finger:Phone:Cond & 2.773062e-05 & 6.016480e-09 & *\\\\\n",
       "\\end{tabular}\n",
       "\n",
       "\\item[\\$`Sphericity Corrections`] A data.frame: 6 × 7\n",
       "\\begin{tabular}{r|lllllll}\n",
       "  & Effect & GGe & p{[}GG{]} & p{[}GG{]}<.05 & HFe & p{[}HF{]} & p{[}HF{]}<.05\\\\\n",
       "  & <chr> & <dbl> & <dbl> & <chr> & <dbl> & <dbl> & <chr>\\\\\n",
       "\\hline\n",
       "\t2 & Finger            & 0.6294120 & 2.058431e-06 & * & 0.7172129 & 4.929641e-07 & *\\\\\n",
       "\t3 & Phone             & 0.5322061 & 1.517172e-05 & * & 0.5855710 & 6.588698e-06 & *\\\\\n",
       "\t5 & Finger:Phone      & 0.4352247 & 4.431543e-06 & * & 0.6082638 & 9.687408e-08 & *\\\\\n",
       "\t6 & Finger:Cond       & 0.6904253 & 5.788697e-05 & * & 0.8028741 & 1.820994e-05 & *\\\\\n",
       "\t7 & Phone:Cond        & 0.4689027 & 3.996015e-02 & * & 0.5028787 & 3.653149e-02 & *\\\\\n",
       "\t8 & Finger:Phone:Cond & 0.3652047 & 4.679992e-01 &   & 0.4798922 & 4.898123e-01 &  \\\\\n",
       "\\end{tabular}\n",
       "\n",
       "\\end{description}\n"
      ],
      "text/markdown": [
       "$ANOVA\n",
       ":   \n",
       "A data.frame: 7 × 7\n",
       "\n",
       "| <!--/--> | Effect &lt;chr&gt; | DFn &lt;dbl&gt; | DFd &lt;dbl&gt; | F &lt;dbl&gt; | p &lt;dbl&gt; | p&lt;.05 &lt;chr&gt; | ges &lt;dbl&gt; |\n",
       "|---|---|---|---|---|---|---|---|\n",
       "| 2 | Finger            | 3 |  45 | 22.3907776 | 5.072824e-09 | * | 0.083174499 |\n",
       "| 3 | Phone             | 3 |  45 | 21.1481881 | 1.073480e-08 | * | 0.295495493 |\n",
       "| 4 | Cond              | 1 |  15 |  6.7070292 | 2.051138e-02 | * | 0.043744787 |\n",
       "| 5 | Finger:Phone      | 9 | 135 |  9.8012439 | 1.858350e-11 | * | 0.023168423 |\n",
       "| 6 | Finger:Cond       | 3 |  45 | 13.2805638 | 2.427770e-06 | * | 0.008249642 |\n",
       "| 7 | Phone:Cond        | 3 |  45 |  4.2482846 | 1.001009e-02 | * | 0.070630165 |\n",
       "| 8 | Finger:Phone:Cond | 9 | 135 |  0.8760589 | 5.483866e-01 | <!----> | 0.001866107 |\n",
       "\n",
       "\n",
       "$`Mauchly's Test for Sphericity`\n",
       ":   \n",
       "A data.frame: 6 × 4\n",
       "\n",
       "| <!--/--> | Effect &lt;chr&gt; | W &lt;dbl&gt; | p &lt;dbl&gt; | p&lt;.05 &lt;chr&gt; |\n",
       "|---|---|---|---|---|\n",
       "| 2 | Finger            | 2.866449e-01 | 4.409249e-03 | * |\n",
       "| 3 | Phone             | 2.472517e-01 | 1.875975e-03 | * |\n",
       "| 5 | Finger:Phone      | 5.951455e-04 | 2.249464e-04 | * |\n",
       "| 6 | Finger:Cond       | 4.414216e-01 | 4.806434e-02 | * |\n",
       "| 7 | Phone:Cond        | 1.251066e-01 | 3.192876e-05 | * |\n",
       "| 8 | Finger:Phone:Cond | 2.773062e-05 | 6.016480e-09 | * |\n",
       "\n",
       "\n",
       "$`Sphericity Corrections`\n",
       ":   \n",
       "A data.frame: 6 × 7\n",
       "\n",
       "| <!--/--> | Effect &lt;chr&gt; | GGe &lt;dbl&gt; | p[GG] &lt;dbl&gt; | p[GG]&lt;.05 &lt;chr&gt; | HFe &lt;dbl&gt; | p[HF] &lt;dbl&gt; | p[HF]&lt;.05 &lt;chr&gt; |\n",
       "|---|---|---|---|---|---|---|---|\n",
       "| 2 | Finger            | 0.6294120 | 2.058431e-06 | * | 0.7172129 | 4.929641e-07 | * |\n",
       "| 3 | Phone             | 0.5322061 | 1.517172e-05 | * | 0.5855710 | 6.588698e-06 | * |\n",
       "| 5 | Finger:Phone      | 0.4352247 | 4.431543e-06 | * | 0.6082638 | 9.687408e-08 | * |\n",
       "| 6 | Finger:Cond       | 0.6904253 | 5.788697e-05 | * | 0.8028741 | 1.820994e-05 | * |\n",
       "| 7 | Phone:Cond        | 0.4689027 | 3.996015e-02 | * | 0.5028787 | 3.653149e-02 | * |\n",
       "| 8 | Finger:Phone:Cond | 0.3652047 | 4.679992e-01 | <!----> | 0.4798922 | 4.898123e-01 | <!----> |\n",
       "\n",
       "\n",
       "\n",
       "\n"
      ],
      "text/plain": [
       "$ANOVA\n",
       "             Effect DFn DFd          F            p p<.05         ges\n",
       "2            Finger   3  45 22.3907776 5.072824e-09     * 0.083174499\n",
       "3             Phone   3  45 21.1481881 1.073480e-08     * 0.295495493\n",
       "4              Cond   1  15  6.7070292 2.051138e-02     * 0.043744787\n",
       "5      Finger:Phone   9 135  9.8012439 1.858350e-11     * 0.023168423\n",
       "6       Finger:Cond   3  45 13.2805638 2.427770e-06     * 0.008249642\n",
       "7        Phone:Cond   3  45  4.2482846 1.001009e-02     * 0.070630165\n",
       "8 Finger:Phone:Cond   9 135  0.8760589 5.483866e-01       0.001866107\n",
       "\n",
       "$`Mauchly's Test for Sphericity`\n",
       "             Effect            W            p p<.05\n",
       "2            Finger 2.866449e-01 4.409249e-03     *\n",
       "3             Phone 2.472517e-01 1.875975e-03     *\n",
       "5      Finger:Phone 5.951455e-04 2.249464e-04     *\n",
       "6       Finger:Cond 4.414216e-01 4.806434e-02     *\n",
       "7        Phone:Cond 1.251066e-01 3.192876e-05     *\n",
       "8 Finger:Phone:Cond 2.773062e-05 6.016480e-09     *\n",
       "\n",
       "$`Sphericity Corrections`\n",
       "             Effect       GGe        p[GG] p[GG]<.05       HFe        p[HF]\n",
       "2            Finger 0.6294120 2.058431e-06         * 0.7172129 4.929641e-07\n",
       "3             Phone 0.5322061 1.517172e-05         * 0.5855710 6.588698e-06\n",
       "5      Finger:Phone 0.4352247 4.431543e-06         * 0.6082638 9.687408e-08\n",
       "6       Finger:Cond 0.6904253 5.788697e-05         * 0.8028741 1.820994e-05\n",
       "7        Phone:Cond 0.4689027 3.996015e-02         * 0.5028787 3.653149e-02\n",
       "8 Finger:Phone:Cond 0.3652047 4.679992e-01           0.4798922 4.898123e-01\n",
       "  p[HF]<.05\n",
       "2         *\n",
       "3         *\n",
       "5         *\n",
       "6         *\n",
       "7         *\n",
       "8          \n"
      ]
     },
     "metadata": {},
     "output_type": "display_data"
    }
   ],
   "source": [
    "aov<-ezANOVA(data = df,\n",
    "       dv = TouchedArea,\n",
    "       within = c(Finger, Phone, Cond),\n",
    "       wid = PId,\n",
    "       type = 3,\n",
    "       detailed = F,\n",
    "       return_aov = F)\n",
    "aov "
   ]
  },
  {
   "cell_type": "code",
   "execution_count": 7,
   "metadata": {},
   "outputs": [
    {
     "data": {
      "text/html": [
       "<ol class=list-inline>\n",
       "\t<li>1.88823614358469</li>\n",
       "\t<li>1.59661842652795</li>\n",
       "\t<li>3.9170226675566</li>\n",
       "\t<li>2.07127587222034</li>\n",
       "\t<li>1.40670810312197</li>\n",
       "\t<li>3.28684217560983</li>\n",
       "</ol>\n"
      ],
      "text/latex": [
       "\\begin{enumerate*}\n",
       "\\item 1.88823614358469\n",
       "\\item 1.59661842652795\n",
       "\\item 3.9170226675566\n",
       "\\item 2.07127587222034\n",
       "\\item 1.40670810312197\n",
       "\\item 3.28684217560983\n",
       "\\end{enumerate*}\n"
      ],
      "text/markdown": [
       "1. 1.88823614358469\n",
       "2. 1.59661842652795\n",
       "3. 3.9170226675566\n",
       "4. 2.07127587222034\n",
       "5. 1.40670810312197\n",
       "6. 3.28684217560983\n",
       "\n",
       "\n"
      ],
      "text/plain": [
       "[1] 1.888236 1.596618 3.917023 2.071276 1.406708 3.286842"
      ]
     },
     "metadata": {},
     "output_type": "display_data"
    },
    {
     "data": {
      "text/html": [
       "<ol class=list-inline>\n",
       "\t<li>28.3235421537703</li>\n",
       "\t<li>23.9492763979193</li>\n",
       "\t<li>58.755340013349</li>\n",
       "\t<li>31.0691380833051</li>\n",
       "\t<li>21.1006215468296</li>\n",
       "\t<li>49.3026326341475</li>\n",
       "</ol>\n"
      ],
      "text/latex": [
       "\\begin{enumerate*}\n",
       "\\item 28.3235421537703\n",
       "\\item 23.9492763979193\n",
       "\\item 58.755340013349\n",
       "\\item 31.0691380833051\n",
       "\\item 21.1006215468296\n",
       "\\item 49.3026326341475\n",
       "\\end{enumerate*}\n"
      ],
      "text/markdown": [
       "1. 28.3235421537703\n",
       "2. 23.9492763979193\n",
       "3. 58.755340013349\n",
       "4. 31.0691380833051\n",
       "5. 21.1006215468296\n",
       "6. 49.3026326341475\n",
       "\n",
       "\n"
      ],
      "text/plain": [
       "[1] 28.32354 23.94928 58.75534 31.06914 21.10062 49.30263"
      ]
     },
     "metadata": {},
     "output_type": "display_data"
    }
   ],
   "source": [
    "aov$`Sphericity Corrections`$GGe * c(3, 3, 9, 3, 3, 9)\n",
    "aov$`Sphericity Corrections`$GGe * c(45, 45, 135, 45, 45, 135)"
   ]
  },
  {
   "cell_type": "code",
   "execution_count": 8,
   "metadata": {},
   "outputs": [],
   "source": [
    "lme_velocity <- lme(TouchedArea ~ Finger*Phone*Cond, data = df, random=~1|PId)"
   ]
  },
  {
   "cell_type": "code",
   "execution_count": 9,
   "metadata": {},
   "outputs": [
    {
     "name": "stderr",
     "output_type": "stream",
     "text": [
      "Warning message in mcp2matrix(model, linfct = linfct):\n",
      "“covariate interactions found -- default contrast might be inappropriate”\n"
     ]
    },
    {
     "data": {
      "text/plain": [
       "\n",
       "\t Simultaneous Tests for General Linear Hypotheses\n",
       "\n",
       "Multiple Comparisons of Means: Tukey Contrasts\n",
       "\n",
       "\n",
       "Fit: lme.formula(fixed = TouchedArea ~ Finger * Phone * Cond, data = df, \n",
       "    random = ~1 | PId)\n",
       "\n",
       "Linear Hypotheses:\n",
       "                      Estimate Std. Error z value Pr(>|z|)  \n",
       "walking - seated == 0    237.8      116.4   2.042   0.0412 *\n",
       "---\n",
       "Signif. codes:  0 ‘***’ 0.001 ‘**’ 0.01 ‘*’ 0.05 ‘.’ 0.1 ‘ ’ 1\n",
       "(Adjusted p values reported -- bonferroni method)\n"
      ]
     },
     "metadata": {},
     "output_type": "display_data"
    }
   ],
   "source": [
    "summary(glht(lme_velocity, linfct=mcp(Cond = \"Tukey\")), test = adjusted(type = \"bonferroni\"))"
   ]
  },
  {
   "cell_type": "code",
   "execution_count": 10,
   "metadata": {},
   "outputs": [
    {
     "name": "stderr",
     "output_type": "stream",
     "text": [
      "Warning message in mcp2matrix(model, linfct = linfct):\n",
      "“covariate interactions found -- default contrast might be inappropriate”\n"
     ]
    },
    {
     "data": {
      "text/plain": [
       "\n",
       "\t Simultaneous Tests for General Linear Hypotheses\n",
       "\n",
       "Multiple Comparisons of Means: Tukey Contrasts\n",
       "\n",
       "\n",
       "Fit: lme.formula(fixed = TouchedArea ~ Finger * Phone * Cond, data = df, \n",
       "    random = ~1 | PId)\n",
       "\n",
       "Linear Hypotheses:\n",
       "              Estimate Std. Error z value Pr(>|z|)    \n",
       "opo - n6 == 0   -161.1      116.4  -1.383 0.999566    \n",
       "s3 - n6 == 0    -626.6      116.4  -5.381 4.44e-07 ***\n",
       "s4 - n6 == 0    -453.9      116.4  -3.898 0.000581 ***\n",
       "s3 - opo == 0   -465.5      116.4  -3.998 0.000384 ***\n",
       "s4 - opo == 0   -292.9      116.4  -2.515 0.071367 .  \n",
       "s4 - s3 == 0     172.6      116.4   1.483 0.829195    \n",
       "---\n",
       "Signif. codes:  0 ‘***’ 0.001 ‘**’ 0.01 ‘*’ 0.05 ‘.’ 0.1 ‘ ’ 1\n",
       "(Adjusted p values reported -- bonferroni method)\n"
      ]
     },
     "metadata": {},
     "output_type": "display_data"
    }
   ],
   "source": [
    "summary(glht(lme_velocity, linfct=mcp(Phone = \"Tukey\")), test = adjusted(type = \"bonferroni\"))"
   ]
  },
  {
   "cell_type": "markdown",
   "metadata": {},
   "source": [
    "# ANOVA only on walking "
   ]
  },
  {
   "cell_type": "code",
   "execution_count": 11,
   "metadata": {},
   "outputs": [
    {
     "data": {
      "text/html": [
       "<dl>\n",
       "\t<dt>$ANOVA</dt>\n",
       "\t\t<dd><table>\n",
       "<caption>A data.frame: 3 × 7</caption>\n",
       "<thead>\n",
       "\t<tr><th></th><th scope=col>Effect</th><th scope=col>DFn</th><th scope=col>DFd</th><th scope=col>F</th><th scope=col>p</th><th scope=col>p&lt;.05</th><th scope=col>ges</th></tr>\n",
       "\t<tr><th></th><th scope=col>&lt;chr&gt;</th><th scope=col>&lt;dbl&gt;</th><th scope=col>&lt;dbl&gt;</th><th scope=col>&lt;dbl&gt;</th><th scope=col>&lt;dbl&gt;</th><th scope=col>&lt;chr&gt;</th><th scope=col>&lt;dbl&gt;</th></tr>\n",
       "</thead>\n",
       "<tbody>\n",
       "\t<tr><th scope=row>2</th><td>Finger      </td><td>3</td><td> 45</td><td>23.995391</td><td>1.995993e-09</td><td>*</td><td>0.07088889</td></tr>\n",
       "\t<tr><th scope=row>3</th><td>Phone       </td><td>3</td><td> 45</td><td> 9.961246</td><td>3.741787e-05</td><td>*</td><td>0.29206024</td></tr>\n",
       "\t<tr><th scope=row>4</th><td>Finger:Phone</td><td>9</td><td>135</td><td> 5.902458</td><td>6.239983e-07</td><td>*</td><td>0.01913270</td></tr>\n",
       "</tbody>\n",
       "</table>\n",
       "</dd>\n",
       "\t<dt>$`Mauchly's Test for Sphericity`</dt>\n",
       "\t\t<dd><table>\n",
       "<caption>A data.frame: 3 × 4</caption>\n",
       "<thead>\n",
       "\t<tr><th></th><th scope=col>Effect</th><th scope=col>W</th><th scope=col>p</th><th scope=col>p&lt;.05</th></tr>\n",
       "\t<tr><th></th><th scope=col>&lt;chr&gt;</th><th scope=col>&lt;dbl&gt;</th><th scope=col>&lt;dbl&gt;</th><th scope=col>&lt;chr&gt;</th></tr>\n",
       "</thead>\n",
       "<tbody>\n",
       "\t<tr><th scope=row>2</th><td>Finger      </td><td>2.302045e-01</td><td>1.219901e-03</td><td>*</td></tr>\n",
       "\t<tr><th scope=row>3</th><td>Phone       </td><td>6.570993e-02</td><td>5.793594e-07</td><td>*</td></tr>\n",
       "\t<tr><th scope=row>4</th><td>Finger:Phone</td><td>2.874298e-05</td><td>6.773344e-09</td><td>*</td></tr>\n",
       "</tbody>\n",
       "</table>\n",
       "</dd>\n",
       "\t<dt>$`Sphericity Corrections`</dt>\n",
       "\t\t<dd><table>\n",
       "<caption>A data.frame: 3 × 7</caption>\n",
       "<thead>\n",
       "\t<tr><th></th><th scope=col>Effect</th><th scope=col>GGe</th><th scope=col>p[GG]</th><th scope=col>p[GG]&lt;.05</th><th scope=col>HFe</th><th scope=col>p[HF]</th><th scope=col>p[HF]&lt;.05</th></tr>\n",
       "\t<tr><th></th><th scope=col>&lt;chr&gt;</th><th scope=col>&lt;dbl&gt;</th><th scope=col>&lt;dbl&gt;</th><th scope=col>&lt;chr&gt;</th><th scope=col>&lt;dbl&gt;</th><th scope=col>&lt;dbl&gt;</th><th scope=col>&lt;chr&gt;</th></tr>\n",
       "</thead>\n",
       "<tbody>\n",
       "\t<tr><th scope=row>2</th><td>Finger      </td><td>0.5959310</td><td>2.018424e-06</td><td>*</td><td>0.6712148</td><td>5.523534e-07</td><td>*</td></tr>\n",
       "\t<tr><th scope=row>3</th><td>Phone       </td><td>0.4524288</td><td>2.550995e-03</td><td>*</td><td>0.4817366</td><td>2.027442e-03</td><td>*</td></tr>\n",
       "\t<tr><th scope=row>4</th><td>Finger:Phone</td><td>0.3100803</td><td>2.315681e-03</td><td>*</td><td>0.3881527</td><td>8.906435e-04</td><td>*</td></tr>\n",
       "</tbody>\n",
       "</table>\n",
       "</dd>\n",
       "</dl>\n"
      ],
      "text/latex": [
       "\\begin{description}\n",
       "\\item[\\$ANOVA] A data.frame: 3 × 7\n",
       "\\begin{tabular}{r|lllllll}\n",
       "  & Effect & DFn & DFd & F & p & p<.05 & ges\\\\\n",
       "  & <chr> & <dbl> & <dbl> & <dbl> & <dbl> & <chr> & <dbl>\\\\\n",
       "\\hline\n",
       "\t2 & Finger       & 3 &  45 & 23.995391 & 1.995993e-09 & * & 0.07088889\\\\\n",
       "\t3 & Phone        & 3 &  45 &  9.961246 & 3.741787e-05 & * & 0.29206024\\\\\n",
       "\t4 & Finger:Phone & 9 & 135 &  5.902458 & 6.239983e-07 & * & 0.01913270\\\\\n",
       "\\end{tabular}\n",
       "\n",
       "\\item[\\$`Mauchly's Test for Sphericity`] A data.frame: 3 × 4\n",
       "\\begin{tabular}{r|llll}\n",
       "  & Effect & W & p & p<.05\\\\\n",
       "  & <chr> & <dbl> & <dbl> & <chr>\\\\\n",
       "\\hline\n",
       "\t2 & Finger       & 2.302045e-01 & 1.219901e-03 & *\\\\\n",
       "\t3 & Phone        & 6.570993e-02 & 5.793594e-07 & *\\\\\n",
       "\t4 & Finger:Phone & 2.874298e-05 & 6.773344e-09 & *\\\\\n",
       "\\end{tabular}\n",
       "\n",
       "\\item[\\$`Sphericity Corrections`] A data.frame: 3 × 7\n",
       "\\begin{tabular}{r|lllllll}\n",
       "  & Effect & GGe & p{[}GG{]} & p{[}GG{]}<.05 & HFe & p{[}HF{]} & p{[}HF{]}<.05\\\\\n",
       "  & <chr> & <dbl> & <dbl> & <chr> & <dbl> & <dbl> & <chr>\\\\\n",
       "\\hline\n",
       "\t2 & Finger       & 0.5959310 & 2.018424e-06 & * & 0.6712148 & 5.523534e-07 & *\\\\\n",
       "\t3 & Phone        & 0.4524288 & 2.550995e-03 & * & 0.4817366 & 2.027442e-03 & *\\\\\n",
       "\t4 & Finger:Phone & 0.3100803 & 2.315681e-03 & * & 0.3881527 & 8.906435e-04 & *\\\\\n",
       "\\end{tabular}\n",
       "\n",
       "\\end{description}\n"
      ],
      "text/markdown": [
       "$ANOVA\n",
       ":   \n",
       "A data.frame: 3 × 7\n",
       "\n",
       "| <!--/--> | Effect &lt;chr&gt; | DFn &lt;dbl&gt; | DFd &lt;dbl&gt; | F &lt;dbl&gt; | p &lt;dbl&gt; | p&lt;.05 &lt;chr&gt; | ges &lt;dbl&gt; |\n",
       "|---|---|---|---|---|---|---|---|\n",
       "| 2 | Finger       | 3 |  45 | 23.995391 | 1.995993e-09 | * | 0.07088889 |\n",
       "| 3 | Phone        | 3 |  45 |  9.961246 | 3.741787e-05 | * | 0.29206024 |\n",
       "| 4 | Finger:Phone | 9 | 135 |  5.902458 | 6.239983e-07 | * | 0.01913270 |\n",
       "\n",
       "\n",
       "$`Mauchly's Test for Sphericity`\n",
       ":   \n",
       "A data.frame: 3 × 4\n",
       "\n",
       "| <!--/--> | Effect &lt;chr&gt; | W &lt;dbl&gt; | p &lt;dbl&gt; | p&lt;.05 &lt;chr&gt; |\n",
       "|---|---|---|---|---|\n",
       "| 2 | Finger       | 2.302045e-01 | 1.219901e-03 | * |\n",
       "| 3 | Phone        | 6.570993e-02 | 5.793594e-07 | * |\n",
       "| 4 | Finger:Phone | 2.874298e-05 | 6.773344e-09 | * |\n",
       "\n",
       "\n",
       "$`Sphericity Corrections`\n",
       ":   \n",
       "A data.frame: 3 × 7\n",
       "\n",
       "| <!--/--> | Effect &lt;chr&gt; | GGe &lt;dbl&gt; | p[GG] &lt;dbl&gt; | p[GG]&lt;.05 &lt;chr&gt; | HFe &lt;dbl&gt; | p[HF] &lt;dbl&gt; | p[HF]&lt;.05 &lt;chr&gt; |\n",
       "|---|---|---|---|---|---|---|---|\n",
       "| 2 | Finger       | 0.5959310 | 2.018424e-06 | * | 0.6712148 | 5.523534e-07 | * |\n",
       "| 3 | Phone        | 0.4524288 | 2.550995e-03 | * | 0.4817366 | 2.027442e-03 | * |\n",
       "| 4 | Finger:Phone | 0.3100803 | 2.315681e-03 | * | 0.3881527 | 8.906435e-04 | * |\n",
       "\n",
       "\n",
       "\n",
       "\n"
      ],
      "text/plain": [
       "$ANOVA\n",
       "        Effect DFn DFd         F            p p<.05        ges\n",
       "2       Finger   3  45 23.995391 1.995993e-09     * 0.07088889\n",
       "3        Phone   3  45  9.961246 3.741787e-05     * 0.29206024\n",
       "4 Finger:Phone   9 135  5.902458 6.239983e-07     * 0.01913270\n",
       "\n",
       "$`Mauchly's Test for Sphericity`\n",
       "        Effect            W            p p<.05\n",
       "2       Finger 2.302045e-01 1.219901e-03     *\n",
       "3        Phone 6.570993e-02 5.793594e-07     *\n",
       "4 Finger:Phone 2.874298e-05 6.773344e-09     *\n",
       "\n",
       "$`Sphericity Corrections`\n",
       "        Effect       GGe        p[GG] p[GG]<.05       HFe        p[HF]\n",
       "2       Finger 0.5959310 2.018424e-06         * 0.6712148 5.523534e-07\n",
       "3        Phone 0.4524288 2.550995e-03         * 0.4817366 2.027442e-03\n",
       "4 Finger:Phone 0.3100803 2.315681e-03         * 0.3881527 8.906435e-04\n",
       "  p[HF]<.05\n",
       "2         *\n",
       "3         *\n",
       "4         *\n"
      ]
     },
     "metadata": {},
     "output_type": "display_data"
    }
   ],
   "source": [
    "df2 = df[df$Cond == \"walking\",]\n",
    "aov2<-ezANOVA(data = df2,\n",
    "       dv = TouchedArea,\n",
    "       within = c(Finger, Phone),\n",
    "       wid = PId,\n",
    "       type = 3,\n",
    "       detailed = F,\n",
    "       return_aov = F)\n",
    "aov2"
   ]
  },
  {
   "cell_type": "code",
   "execution_count": 12,
   "metadata": {},
   "outputs": [
    {
     "data": {
      "text/html": [
       "<ol class=list-inline>\n",
       "\t<li>1.7877928887727</li>\n",
       "\t<li>1.35728635235196</li>\n",
       "\t<li>2.79072305527446</li>\n",
       "</ol>\n"
      ],
      "text/latex": [
       "\\begin{enumerate*}\n",
       "\\item 1.7877928887727\n",
       "\\item 1.35728635235196\n",
       "\\item 2.79072305527446\n",
       "\\end{enumerate*}\n"
      ],
      "text/markdown": [
       "1. 1.7877928887727\n",
       "2. 1.35728635235196\n",
       "3. 2.79072305527446\n",
       "\n",
       "\n"
      ],
      "text/plain": [
       "[1] 1.787793 1.357286 2.790723"
      ]
     },
     "metadata": {},
     "output_type": "display_data"
    },
    {
     "data": {
      "text/html": [
       "<ol class=list-inline>\n",
       "\t<li>26.8168933315905</li>\n",
       "\t<li>20.3592952852794</li>\n",
       "\t<li>41.8608458291169</li>\n",
       "</ol>\n"
      ],
      "text/latex": [
       "\\begin{enumerate*}\n",
       "\\item 26.8168933315905\n",
       "\\item 20.3592952852794\n",
       "\\item 41.8608458291169\n",
       "\\end{enumerate*}\n"
      ],
      "text/markdown": [
       "1. 26.8168933315905\n",
       "2. 20.3592952852794\n",
       "3. 41.8608458291169\n",
       "\n",
       "\n"
      ],
      "text/plain": [
       "[1] 26.81689 20.35930 41.86085"
      ]
     },
     "metadata": {},
     "output_type": "display_data"
    }
   ],
   "source": [
    "aov2$`Sphericity Corrections`$GGe * c(3, 3, 9)\n",
    "aov2$`Sphericity Corrections`$GGe * c(45, 45, 135)"
   ]
  },
  {
   "cell_type": "code",
   "execution_count": 13,
   "metadata": {},
   "outputs": [],
   "source": [
    "lme2 <- lme(TouchedArea ~ Phone, data = df2, random=~1|PId)"
   ]
  },
  {
   "cell_type": "code",
   "execution_count": 14,
   "metadata": {},
   "outputs": [
    {
     "data": {
      "text/plain": [
       "\n",
       "\t Simultaneous Tests for General Linear Hypotheses\n",
       "\n",
       "Multiple Comparisons of Means: Tukey Contrasts\n",
       "\n",
       "\n",
       "Fit: lme.formula(fixed = TouchedArea ~ Phone, data = df2, random = ~1 | \n",
       "    PId)\n",
       "\n",
       "Linear Hypotheses:\n",
       "              Estimate Std. Error z value Pr(>|z|)    \n",
       "opo - n6 == 0  -608.56      72.61  -8.382  < 2e-16 ***\n",
       "s3 - n6 == 0   -555.89      72.61  -7.656 1.15e-13 ***\n",
       "s4 - n6 == 0   -732.83      72.61 -10.093  < 2e-16 ***\n",
       "s3 - opo == 0    52.67      72.61   0.725   1.0000    \n",
       "s4 - opo == 0  -124.27      72.61  -1.712   0.5219    \n",
       "s4 - s3 == 0   -176.94      72.61  -2.437   0.0889 .  \n",
       "---\n",
       "Signif. codes:  0 ‘***’ 0.001 ‘**’ 0.01 ‘*’ 0.05 ‘.’ 0.1 ‘ ’ 1\n",
       "(Adjusted p values reported -- bonferroni method)\n"
      ]
     },
     "metadata": {},
     "output_type": "display_data"
    }
   ],
   "source": [
    "summary(glht(lme2, linfct=mcp(Phone = \"Tukey\")), test = adjusted(type = \"bonferroni\"))"
   ]
  },
  {
   "cell_type": "markdown",
   "metadata": {},
   "source": [
    "# ANOVA only on seated "
   ]
  },
  {
   "cell_type": "code",
   "execution_count": 15,
   "metadata": {},
   "outputs": [],
   "source": [
    "df2 = df[df$Cond == \"seated\",]"
   ]
  },
  {
   "cell_type": "code",
   "execution_count": 16,
   "metadata": {},
   "outputs": [],
   "source": [
    "aov2<-ezANOVA(data = df2,\n",
    "       dv = TouchedArea,\n",
    "       within = c(Finger, Phone),\n",
    "       wid = PId,\n",
    "       type = 3,\n",
    "       detailed = F,\n",
    "       return_aov = F)"
   ]
  },
  {
   "cell_type": "code",
   "execution_count": 17,
   "metadata": {},
   "outputs": [
    {
     "data": {
      "text/html": [
       "<dl>\n",
       "\t<dt>$ANOVA</dt>\n",
       "\t\t<dd><table>\n",
       "<caption>A data.frame: 3 × 7</caption>\n",
       "<thead>\n",
       "\t<tr><th></th><th scope=col>Effect</th><th scope=col>DFn</th><th scope=col>DFd</th><th scope=col>F</th><th scope=col>p</th><th scope=col>p&lt;.05</th><th scope=col>ges</th></tr>\n",
       "\t<tr><th></th><th scope=col>&lt;chr&gt;</th><th scope=col>&lt;dbl&gt;</th><th scope=col>&lt;dbl&gt;</th><th scope=col>&lt;dbl&gt;</th><th scope=col>&lt;dbl&gt;</th><th scope=col>&lt;chr&gt;</th><th scope=col>&lt;dbl&gt;</th></tr>\n",
       "</thead>\n",
       "<tbody>\n",
       "\t<tr><th scope=row>2</th><td>Finger      </td><td>3</td><td> 45</td><td>17.938312</td><td>8.414487e-08</td><td>*</td><td>0.15409542</td></tr>\n",
       "\t<tr><th scope=row>3</th><td>Phone       </td><td>3</td><td> 45</td><td>32.962218</td><td>1.996203e-11</td><td>*</td><td>0.44395642</td></tr>\n",
       "\t<tr><th scope=row>4</th><td>Finger:Phone</td><td>9</td><td>135</td><td> 5.242881</td><td>4.085076e-06</td><td>*</td><td>0.04563638</td></tr>\n",
       "</tbody>\n",
       "</table>\n",
       "</dd>\n",
       "\t<dt>$`Mauchly's Test for Sphericity`</dt>\n",
       "\t\t<dd><table>\n",
       "<caption>A data.frame: 3 × 4</caption>\n",
       "<thead>\n",
       "\t<tr><th></th><th scope=col>Effect</th><th scope=col>W</th><th scope=col>p</th><th scope=col>p&lt;.05</th></tr>\n",
       "\t<tr><th></th><th scope=col>&lt;chr&gt;</th><th scope=col>&lt;dbl&gt;</th><th scope=col>&lt;dbl&gt;</th><th scope=col>&lt;chr&gt;</th></tr>\n",
       "</thead>\n",
       "<tbody>\n",
       "\t<tr><th scope=row>2</th><td>Finger      </td><td>0.4285755409</td><td>0.040908089</td><td>*</td></tr>\n",
       "\t<tr><th scope=row>3</th><td>Phone       </td><td>0.5070061858</td><td>0.097948410</td><td> </td></tr>\n",
       "\t<tr><th scope=row>4</th><td>Finger:Phone</td><td>0.0005838472</td><td>0.000209635</td><td>*</td></tr>\n",
       "</tbody>\n",
       "</table>\n",
       "</dd>\n",
       "\t<dt>$`Sphericity Corrections`</dt>\n",
       "\t\t<dd><table>\n",
       "<caption>A data.frame: 3 × 7</caption>\n",
       "<thead>\n",
       "\t<tr><th></th><th scope=col>Effect</th><th scope=col>GGe</th><th scope=col>p[GG]</th><th scope=col>p[GG]&lt;.05</th><th scope=col>HFe</th><th scope=col>p[HF]</th><th scope=col>p[HF]&lt;.05</th></tr>\n",
       "\t<tr><th></th><th scope=col>&lt;chr&gt;</th><th scope=col>&lt;dbl&gt;</th><th scope=col>&lt;dbl&gt;</th><th scope=col>&lt;chr&gt;</th><th scope=col>&lt;dbl&gt;</th><th scope=col>&lt;dbl&gt;</th><th scope=col>&lt;chr&gt;</th></tr>\n",
       "</thead>\n",
       "<tbody>\n",
       "\t<tr><th scope=row>2</th><td>Finger      </td><td>0.7014106</td><td>4.692791e-06</td><td>*</td><td>0.8185556</td><td>9.644037e-07</td><td>*</td></tr>\n",
       "\t<tr><th scope=row>3</th><td>Phone       </td><td>0.7186104</td><td>8.685809e-09</td><td>*</td><td>0.8432697</td><td>5.859769e-10</td><td>*</td></tr>\n",
       "\t<tr><th scope=row>4</th><td>Finger:Phone</td><td>0.4431759</td><td>1.104669e-03</td><td>*</td><td>0.6237701</td><td>1.754225e-04</td><td>*</td></tr>\n",
       "</tbody>\n",
       "</table>\n",
       "</dd>\n",
       "</dl>\n"
      ],
      "text/latex": [
       "\\begin{description}\n",
       "\\item[\\$ANOVA] A data.frame: 3 × 7\n",
       "\\begin{tabular}{r|lllllll}\n",
       "  & Effect & DFn & DFd & F & p & p<.05 & ges\\\\\n",
       "  & <chr> & <dbl> & <dbl> & <dbl> & <dbl> & <chr> & <dbl>\\\\\n",
       "\\hline\n",
       "\t2 & Finger       & 3 &  45 & 17.938312 & 8.414487e-08 & * & 0.15409542\\\\\n",
       "\t3 & Phone        & 3 &  45 & 32.962218 & 1.996203e-11 & * & 0.44395642\\\\\n",
       "\t4 & Finger:Phone & 9 & 135 &  5.242881 & 4.085076e-06 & * & 0.04563638\\\\\n",
       "\\end{tabular}\n",
       "\n",
       "\\item[\\$`Mauchly's Test for Sphericity`] A data.frame: 3 × 4\n",
       "\\begin{tabular}{r|llll}\n",
       "  & Effect & W & p & p<.05\\\\\n",
       "  & <chr> & <dbl> & <dbl> & <chr>\\\\\n",
       "\\hline\n",
       "\t2 & Finger       & 0.4285755409 & 0.040908089 & *\\\\\n",
       "\t3 & Phone        & 0.5070061858 & 0.097948410 &  \\\\\n",
       "\t4 & Finger:Phone & 0.0005838472 & 0.000209635 & *\\\\\n",
       "\\end{tabular}\n",
       "\n",
       "\\item[\\$`Sphericity Corrections`] A data.frame: 3 × 7\n",
       "\\begin{tabular}{r|lllllll}\n",
       "  & Effect & GGe & p{[}GG{]} & p{[}GG{]}<.05 & HFe & p{[}HF{]} & p{[}HF{]}<.05\\\\\n",
       "  & <chr> & <dbl> & <dbl> & <chr> & <dbl> & <dbl> & <chr>\\\\\n",
       "\\hline\n",
       "\t2 & Finger       & 0.7014106 & 4.692791e-06 & * & 0.8185556 & 9.644037e-07 & *\\\\\n",
       "\t3 & Phone        & 0.7186104 & 8.685809e-09 & * & 0.8432697 & 5.859769e-10 & *\\\\\n",
       "\t4 & Finger:Phone & 0.4431759 & 1.104669e-03 & * & 0.6237701 & 1.754225e-04 & *\\\\\n",
       "\\end{tabular}\n",
       "\n",
       "\\end{description}\n"
      ],
      "text/markdown": [
       "$ANOVA\n",
       ":   \n",
       "A data.frame: 3 × 7\n",
       "\n",
       "| <!--/--> | Effect &lt;chr&gt; | DFn &lt;dbl&gt; | DFd &lt;dbl&gt; | F &lt;dbl&gt; | p &lt;dbl&gt; | p&lt;.05 &lt;chr&gt; | ges &lt;dbl&gt; |\n",
       "|---|---|---|---|---|---|---|---|\n",
       "| 2 | Finger       | 3 |  45 | 17.938312 | 8.414487e-08 | * | 0.15409542 |\n",
       "| 3 | Phone        | 3 |  45 | 32.962218 | 1.996203e-11 | * | 0.44395642 |\n",
       "| 4 | Finger:Phone | 9 | 135 |  5.242881 | 4.085076e-06 | * | 0.04563638 |\n",
       "\n",
       "\n",
       "$`Mauchly's Test for Sphericity`\n",
       ":   \n",
       "A data.frame: 3 × 4\n",
       "\n",
       "| <!--/--> | Effect &lt;chr&gt; | W &lt;dbl&gt; | p &lt;dbl&gt; | p&lt;.05 &lt;chr&gt; |\n",
       "|---|---|---|---|---|\n",
       "| 2 | Finger       | 0.4285755409 | 0.040908089 | * |\n",
       "| 3 | Phone        | 0.5070061858 | 0.097948410 | <!----> |\n",
       "| 4 | Finger:Phone | 0.0005838472 | 0.000209635 | * |\n",
       "\n",
       "\n",
       "$`Sphericity Corrections`\n",
       ":   \n",
       "A data.frame: 3 × 7\n",
       "\n",
       "| <!--/--> | Effect &lt;chr&gt; | GGe &lt;dbl&gt; | p[GG] &lt;dbl&gt; | p[GG]&lt;.05 &lt;chr&gt; | HFe &lt;dbl&gt; | p[HF] &lt;dbl&gt; | p[HF]&lt;.05 &lt;chr&gt; |\n",
       "|---|---|---|---|---|---|---|---|\n",
       "| 2 | Finger       | 0.7014106 | 4.692791e-06 | * | 0.8185556 | 9.644037e-07 | * |\n",
       "| 3 | Phone        | 0.7186104 | 8.685809e-09 | * | 0.8432697 | 5.859769e-10 | * |\n",
       "| 4 | Finger:Phone | 0.4431759 | 1.104669e-03 | * | 0.6237701 | 1.754225e-04 | * |\n",
       "\n",
       "\n",
       "\n",
       "\n"
      ],
      "text/plain": [
       "$ANOVA\n",
       "        Effect DFn DFd         F            p p<.05        ges\n",
       "2       Finger   3  45 17.938312 8.414487e-08     * 0.15409542\n",
       "3        Phone   3  45 32.962218 1.996203e-11     * 0.44395642\n",
       "4 Finger:Phone   9 135  5.242881 4.085076e-06     * 0.04563638\n",
       "\n",
       "$`Mauchly's Test for Sphericity`\n",
       "        Effect            W           p p<.05\n",
       "2       Finger 0.4285755409 0.040908089     *\n",
       "3        Phone 0.5070061858 0.097948410      \n",
       "4 Finger:Phone 0.0005838472 0.000209635     *\n",
       "\n",
       "$`Sphericity Corrections`\n",
       "        Effect       GGe        p[GG] p[GG]<.05       HFe        p[HF]\n",
       "2       Finger 0.7014106 4.692791e-06         * 0.8185556 9.644037e-07\n",
       "3        Phone 0.7186104 8.685809e-09         * 0.8432697 5.859769e-10\n",
       "4 Finger:Phone 0.4431759 1.104669e-03         * 0.6237701 1.754225e-04\n",
       "  p[HF]<.05\n",
       "2         *\n",
       "3         *\n",
       "4         *\n"
      ]
     },
     "metadata": {},
     "output_type": "display_data"
    }
   ],
   "source": [
    "aov2"
   ]
  },
  {
   "cell_type": "code",
   "execution_count": 18,
   "metadata": {},
   "outputs": [
    {
     "data": {
      "text/html": [
       "<ol class=list-inline>\n",
       "\t<li>2.10423192612004</li>\n",
       "\t<li>2.15583106177257</li>\n",
       "\t<li>3.98858342525043</li>\n",
       "</ol>\n"
      ],
      "text/latex": [
       "\\begin{enumerate*}\n",
       "\\item 2.10423192612004\n",
       "\\item 2.15583106177257\n",
       "\\item 3.98858342525043\n",
       "\\end{enumerate*}\n"
      ],
      "text/markdown": [
       "1. 2.10423192612004\n",
       "2. 2.15583106177257\n",
       "3. 3.98858342525043\n",
       "\n",
       "\n"
      ],
      "text/plain": [
       "[1] 2.104232 2.155831 3.988583"
      ]
     },
     "metadata": {},
     "output_type": "display_data"
    },
    {
     "data": {
      "text/html": [
       "<ol class=list-inline>\n",
       "\t<li>31.5634788918005</li>\n",
       "\t<li>32.3374659265886</li>\n",
       "\t<li>59.8287513787564</li>\n",
       "</ol>\n"
      ],
      "text/latex": [
       "\\begin{enumerate*}\n",
       "\\item 31.5634788918005\n",
       "\\item 32.3374659265886\n",
       "\\item 59.8287513787564\n",
       "\\end{enumerate*}\n"
      ],
      "text/markdown": [
       "1. 31.5634788918005\n",
       "2. 32.3374659265886\n",
       "3. 59.8287513787564\n",
       "\n",
       "\n"
      ],
      "text/plain": [
       "[1] 31.56348 32.33747 59.82875"
      ]
     },
     "metadata": {},
     "output_type": "display_data"
    }
   ],
   "source": [
    "aov2$`Sphericity Corrections`$GGe * c(3, 3, 9)\n",
    "aov2$`Sphericity Corrections`$GGe * c(45, 45, 135)"
   ]
  },
  {
   "cell_type": "code",
   "execution_count": 19,
   "metadata": {},
   "outputs": [],
   "source": [
    "lme2 <- lme(TouchedArea ~ Phone, data = df2, random=~1|PId)"
   ]
  },
  {
   "cell_type": "code",
   "execution_count": 20,
   "metadata": {},
   "outputs": [
    {
     "data": {
      "text/plain": [
       "\n",
       "\t Simultaneous Tests for General Linear Hypotheses\n",
       "\n",
       "Multiple Comparisons of Means: Tukey Contrasts\n",
       "\n",
       "\n",
       "Fit: lme.formula(fixed = TouchedArea ~ Phone, data = df2, random = ~1 | \n",
       "    PId)\n",
       "\n",
       "Linear Hypotheses:\n",
       "              Estimate Std. Error z value Pr(>|z|)    \n",
       "opo - n6 == 0  -189.86      39.53  -4.803 9.40e-06 ***\n",
       "s3 - n6 == 0   -547.39      39.53 -13.847  < 2e-16 ***\n",
       "s4 - n6 == 0   -377.67      39.53  -9.553  < 2e-16 ***\n",
       "s3 - opo == 0  -357.53      39.53  -9.044  < 2e-16 ***\n",
       "s4 - opo == 0  -187.81      39.53  -4.751 1.22e-05 ***\n",
       "s4 - s3 == 0    169.72      39.53   4.293 0.000106 ***\n",
       "---\n",
       "Signif. codes:  0 ‘***’ 0.001 ‘**’ 0.01 ‘*’ 0.05 ‘.’ 0.1 ‘ ’ 1\n",
       "(Adjusted p values reported -- bonferroni method)\n"
      ]
     },
     "metadata": {},
     "output_type": "display_data"
    }
   ],
   "source": [
    "summary(glht(lme2, linfct=mcp(Phone = \"Tukey\")), test = adjusted(type = \"bonferroni\"))"
   ]
  }
 ],
 "metadata": {
  "kernelspec": {
   "display_name": "R",
   "language": "R",
   "name": "ir"
  },
  "language_info": {
   "codemirror_mode": "r",
   "file_extension": ".r",
   "mimetype": "text/x-r-source",
   "name": "R",
   "pygments_lexer": "r",
   "version": "3.6.1"
  }
 },
 "nbformat": 4,
 "nbformat_minor": 2
}
