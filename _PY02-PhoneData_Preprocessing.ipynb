{
 "cells": [
  {
   "cell_type": "code",
   "execution_count": 1,
   "metadata": {},
   "outputs": [],
   "source": [
    "import os\n",
    "import ast\n",
    "import itertools\n",
    "import glob\n",
    "\n",
    "import numpy as np\n",
    "import pandas as pd\n",
    "\n",
    "import multiprocessing\n",
    "import tqdm\n",
    "\n",
    "import scipy\n",
    "from scipy import interpolate, stats"
   ]
  },
  {
   "cell_type": "markdown",
   "metadata": {},
   "source": [
    "### Retrieve all phone files and put them in two dicts: one for walking, one for sitting\n",
    "### walking_dict & seated_dict"
   ]
  },
  {
   "cell_type": "code",
   "execution_count": 2,
   "metadata": {},
   "outputs": [
    {
     "name": "stdout",
     "output_type": "stream",
     "text": [
      "CPU times: user 1.31 ms, sys: 5.39 ms, total: 6.7 ms\n",
      "Wall time: 5.53 ms\n"
     ]
    }
   ],
   "source": [
    "%%time\n",
    "path = \"./raw_data_phone/\"\n",
    "tasks = [\"DRAG\", \"SCROLL\", \"QUESTION\", \"READ\", \"TAP\", \"WRITE\"]\n",
    "phones = {\"GT-I8190\":\"S3\",\n",
    "              \"GT-I9505\":\"S4\",\n",
    "              \"A0001\":\"OPO\",\n",
    "              \"Nexus 6\":\"N6\"}\n",
    "\n",
    "### dicts format: walkling_dict = {P1..21:{S3..N6:[File1..File7]}}\n",
    "file_list = []\n",
    "walking_dict = {}\n",
    "seated_dict = {}\n",
    "for i in range(1,22):\n",
    "    walking_dict[\"P\"+str(i)]= {\"S3\":[],\"S4\":[],\"OPO\":[],\"N6\":[]}\n",
    "    seated_dict[\"P\"+str(i)]= {\"S3\":[],\"S4\":[],\"OPO\":[],\"N6\":[]}\n",
    "for root, subdirs, files in os.walk(path):\n",
    "    for file in files: \n",
    "        if \"questions\" not in root and \"Study\" in file and \"Sensor\" not in file:\n",
    "            part = root.split(\"/\")[3]\n",
    "            phone_model = file.split(\"_\")[1]\n",
    "            phone = phones[phone_model]    \n",
    "            file_path = os.path.join(root, file)\n",
    "            if \"walking\" in file:\n",
    "                walking_dict[part][phone].append(file_path)\n",
    "                #print(\"Part %s - Phone Model %s - filepath %s\" % (part, phone_model, file_path))\n",
    "            elif \"seated\" in file:\n",
    "                seated_dict[part][phone].append(file_path) "
   ]
  },
  {
   "cell_type": "markdown",
   "metadata": {},
   "source": [
    "### return list containing all filepaths for participant in condition and phone"
   ]
  },
  {
   "cell_type": "code",
   "execution_count": 3,
   "metadata": {},
   "outputs": [],
   "source": [
    "def getFilesList(pId, phone ,cond):\n",
    "    if cond == \"walking\":\n",
    "        return walking_dict[\"P\"+pId][phone]\n",
    "    else:\n",
    "        return seated_dict[\"P\"+pId][phone]"
   ]
  },
  {
   "cell_type": "markdown",
   "metadata": {},
   "source": [
    "### return start and endtime of dataframe as a timestamp"
   ]
  },
  {
   "cell_type": "code",
   "execution_count": 4,
   "metadata": {},
   "outputs": [],
   "source": [
    "def getTimes(df):\n",
    "    firstTime = df.Timestamp[0]\n",
    "    lastTime = df.Timestamp[-1]\n",
    "    return firstTime, lastTime"
   ]
  },
  {
   "cell_type": "markdown",
   "metadata": {},
   "source": [
    "### return starttime of dataframe as a timestamp"
   ]
  },
  {
   "cell_type": "code",
   "execution_count": 5,
   "metadata": {},
   "outputs": [],
   "source": [
    "def getFirstTime(timestamp):\n",
    "    if type(timestamp) is np.ndarray:\n",
    "        firstTime = timestamp[0]\n",
    "        return firstTime\n",
    "    else:\n",
    "        return timestamp"
   ]
  },
  {
   "cell_type": "markdown",
   "metadata": {},
   "source": [
    "### return endtime of dataframe as a timestamp"
   ]
  },
  {
   "cell_type": "code",
   "execution_count": 6,
   "metadata": {},
   "outputs": [],
   "source": [
    "def getLastTime(timestamp):\n",
    "    if type(timestamp) is np.ndarray:\n",
    "        lastTime = timestamp[-1]\n",
    "        return lastTime\n",
    "    else:\n",
    "        return timestamp"
   ]
  },
  {
   "cell_type": "markdown",
   "metadata": {},
   "source": [
    "### return row with applied given function on it"
   ]
  },
  {
   "cell_type": "code",
   "execution_count": 7,
   "metadata": {},
   "outputs": [],
   "source": [
    "def applyChanges(f, np_arr):\n",
    "    np_arr = list(np_arr)\n",
    "    np_arr = list(map(lambda x: x + np.round(f(x)), np_arr))\n",
    "    np_arr = list(map(lambda x: x.astype(int), np_arr))\n",
    "    return np_arr"
   ]
  },
  {
   "cell_type": "markdown",
   "metadata": {},
   "source": [
    "### return dataframe for S3 phone for given pid, cond containing interpolated timestamps"
   ]
  },
  {
   "cell_type": "code",
   "execution_count": 8,
   "metadata": {},
   "outputs": [],
   "source": [
    "def syncS3Times(pid, c, df):\n",
    "    path = \"./raw_data_phone/timestamp_adjusted/\"\n",
    "    all_files = glob.glob(os.path.join(path, \"*.txt\"))\n",
    "    for file in all_files:\n",
    "        #pp = int(pid.replace(\"P\",\"\"))\n",
    "        if pid in file and c in file: #and pp>2:\n",
    "            #all S3 files for participant pid combined\n",
    "            concatDf = df\n",
    "            #UDP - file with PC timestamps and related phonetimestamps\n",
    "            matching_df = pd.read_csv(file, delimiter =\",\")\n",
    "            #name the columns\n",
    "            matching_df= matching_df.rename(index=str , columns = {matching_df.columns[0]:\"Phonestamp\",matching_df.columns[1]:\"Motivestamp\"})\n",
    "            #get difference in ms\n",
    "            matching_df[\"diff\"] = matching_df[\"Motivestamp\"] - matching_df[\"Phonestamp\"]\n",
    "\n",
    "            #merge the matching df with S3 df (Phonestamp X LastTime)\n",
    "            merged_df = pd.merge_asof(matching_df, concatDf, left_on='Phonestamp',right_on='LastTime', direction = 'nearest')\n",
    "            \n",
    "            '''\n",
    "            create df that holds X and Y axis for the 1D interpolation \n",
    "            (append the first diff and last diff for border case)\n",
    "            '''\n",
    "            interpol_df = pd.DataFrame(data={\"interpolTime\":merged_df[\"Phonestamp\"],\"diff\": merged_df[\"diff\"]}).append(\n",
    "                {\"diff\":merged_df[\"diff\"].iloc[0],\"interpolTime\":0}, ignore_index=True).append(\n",
    "                {\"diff\":merged_df[\"diff\"].iloc[-1],\"interpolTime\":1600000000000}, ignore_index=True).sort_values(by=['interpolTime'])\n",
    "            \n",
    "            #interpolate along the X(timestamps) and Y(diff) axes \n",
    "            f = interpolate.interp1d(interpol_df[\"interpolTime\"], interpol_df [\"diff\"])\n",
    "            #add new column that holds interpolated values \n",
    "            concatDf[\"interpol\"] = applyChanges(f, concatDf[\"timestamp\"])\n",
    "            concatDf['FirstTime'] = concatDf.apply(lambda row: getFirstTime(row['interpol']), axis=1) \n",
    "            concatDf['LastTime'] = concatDf.apply(lambda row: getLastTime(row['interpol']), axis=1)\n",
    "            return concatDf"
   ]
  },
  {
   "cell_type": "markdown",
   "metadata": {},
   "source": [
    "### return three lists containing tasks, start and endtime for tasks for given dataframe"
   ]
  },
  {
   "cell_type": "code",
   "execution_count": 9,
   "metadata": {},
   "outputs": [],
   "source": [
    "def getTaskIntervalNew(df):\n",
    "    df = df.reset_index(drop=True)\n",
    "    change = {\"SCROLL_H\":\"Fitts\",\n",
    "              \"SCROLL_V\":\"Fitts\",\n",
    "              \"DRAG\":\"Fitts\",\n",
    "              \"TAP\":\"Fitts\",\n",
    "              \"QUESTION\":\"QUESTION\",\n",
    "              \"READ\":\"READ\",\n",
    "              \"WRITE\":\"WRITE\"}\n",
    "    task = [change[df.Task[0]]]\n",
    "    task_begin = [df.FirstTime[0]]\n",
    "    task_end = []\n",
    "    lastTask = change[df.Task[0]]\n",
    "    for i in range(len(df)):\n",
    "        t = df.Task[i]\n",
    "        currTask = change[t]\n",
    "        if currTask in \"QUESTION\":\n",
    "            task_end.append(df.LastTime[i-1])\n",
    "        if currTask not in lastTask and currTask not in \"QUESTION\":\n",
    "            task.append(currTask)\n",
    "            task_begin.append(df.FirstTime[i])\n",
    "        lastTask = currTask\n",
    "    return task, task_begin, task_end"
   ]
  },
  {
   "cell_type": "code",
   "execution_count": 10,
   "metadata": {},
   "outputs": [],
   "source": [
    "def getTaskInterval(df):\n",
    "    df = df.reset_index(drop=True)\n",
    "    change = {\"SCROLL_H\":\"Fitts\",\n",
    "              \"SCROLL_V\":\"Fitts\",\n",
    "              \"DRAG\":\"Fitts\",\n",
    "              \"TAP\":\"Fitts\",\n",
    "              \"QUESTION\":\"QUESTION\",\n",
    "              \"READ\":\"READ\",\n",
    "              \"WRITE\":\"WRITE\"}\n",
    "    task = [change[df.Task[0]]]\n",
    "    task_begin = [df.FirstTime[0]]\n",
    "    task_end = []\n",
    "    lastTask = change[df.Task[0]]\n",
    "    for i in range(len(df)):\n",
    "        t = df.Task[i]\n",
    "        currTask = change[t]\n",
    "        if currTask in \"QUESTION\":\n",
    "            task_end.append(df.LastTime[i-1])\n",
    "        if currTask not in lastTask and currTask not in \"QUESTION\":\n",
    "            task.append(currTask)\n",
    "            task_begin.append(df.FirstTime[i])\n",
    "        lastTask = currTask\n",
    "    return task, task_begin, task_end,"
   ]
  },
  {
   "cell_type": "markdown",
   "metadata": {},
   "source": [
    "### Concat the phone files of participant (pid) in this given codition (c)  plus phone and order by time\n",
    "### return the start and end timestamps for the different tasks"
   ]
  },
  {
   "cell_type": "code",
   "execution_count": 11,
   "metadata": {},
   "outputs": [],
   "source": [
    "def concatDfsNew(pid, phone, cond):\n",
    "    corr_cols = []\n",
    "    dfs = []\n",
    "    if cond == \"walking\":\n",
    "        file_list = walking_dict[pid][phone]\n",
    "    else:\n",
    "        file_list = seated_dict[pid][phone]\n",
    "    for file in file_list:\n",
    "        if \"SCROLL_H\" in file:\n",
    "            task = \"SCROLL_H\"\n",
    "        elif \"SCROLL_V\" in file:\n",
    "            task = \"SCROLL_V\"\n",
    "        else:\n",
    "            task = file.split(\"/\")[5].split(\"_\")[3].split(\".\")[0]\n",
    "        df_temp = pd.read_csv(file, delimiter=\";\")\n",
    "        for c in df_temp.columns:\n",
    "            if c not in ['timestamp']:\n",
    "                df_temp = df_temp.drop(c, 1)\n",
    "        df_temp[\"Task\"] = task\n",
    "        dfs.append(df_temp)\n",
    "    df = pd.concat(dfs,ignore_index=True)\n",
    "    #df = df.sort_values(by=['timestamp'])\n",
    "    df.timestamp = df.timestamp.apply(lambda x: np.array(ast.literal_eval(x)))\n",
    "    df['FirstTime'] = df.apply(lambda row: getFirstTime(row['timestamp']), axis=1) \n",
    "    df['LastTime'] = df.apply(lambda row: getLastTime(row['timestamp']), axis=1)\n",
    "    df = df.sort_values(by=['LastTime'])\n",
    "    return getTaskIntervalNew(df)"
   ]
  },
  {
   "cell_type": "code",
   "execution_count": 12,
   "metadata": {},
   "outputs": [],
   "source": [
    "def concatDfs(pid, phone, cond):\n",
    "    corr_cols = []\n",
    "    dfs = []\n",
    "    if cond == \"walking\":\n",
    "        file_list = walking_dict[pid][phone]\n",
    "    else:\n",
    "        file_list = seated_dict[pid][phone]\n",
    "    for file in file_list:\n",
    "        if \"SCROLL_H\" in file:\n",
    "            task = \"SCROLL_H\"\n",
    "        elif \"SCROLL_V\" in file:\n",
    "            task = \"SCROLL_V\"\n",
    "        else:\n",
    "            task = file.split(\"/\")[5].split(\"_\")[3].split(\".\")[0]\n",
    "        df_temp = pd.read_csv(file, delimiter=\";\")\n",
    "        for c in df_temp.columns:\n",
    "            if c not in ['timestamp']:\n",
    "                df_temp = df_temp.drop(c, 1)\n",
    "        df_temp[\"Task\"] = task\n",
    "        dfs.append(df_temp)\n",
    "    df = pd.concat(dfs,ignore_index=True)\n",
    "    #df = df.sort_values(by=['timestamp'])\n",
    "    df.timestamp = df.timestamp.apply(lambda x: np.array(ast.literal_eval(x)))\n",
    "    df['FirstTime'] = df.apply(lambda row: getFirstTime(row['timestamp']), axis=1) \n",
    "    df['LastTime'] = df.apply(lambda row: getLastTime(row['timestamp']), axis=1)\n",
    "    df = df.sort_values(by=['LastTime'])\n",
    "    if \"S3\" in phone:\n",
    "        df = syncS3Times(pid, cond, df)\n",
    "    return getTaskInterval(df)"
   ]
  },
  {
   "cell_type": "markdown",
   "metadata": {},
   "source": [
    "# Main functionality - clean *.pkl files up from needless frames"
   ]
  },
  {
   "cell_type": "code",
   "execution_count": 13,
   "metadata": {},
   "outputs": [],
   "source": [
    "path = \"./Pickles/\"\n",
    "joints = ['Thumb_Fn', 'Thumb_DIP', 'Thumb_PIP', 'Thumb_MCP',\\\n",
    "         'Index_Fn', 'Index_DIP', 'Index_PIP', 'Index_MCP',\\\n",
    "         'Middle_Fn', 'Middle_DIP', 'Middle_PIP', 'Middle_MCP',\\\n",
    "         'Ring_Fn', 'Ring_DIP', 'Ring_PIP', 'Ring_MCP',\\\n",
    "         'Little_Fn', 'Little_DIP', 'Little_PIP', 'Little_MCP',\\\n",
    "          'R_Shape_4','R_Shape_2','R_Shape_3','R_Shape_1',\\\n",
    "         'Wrist']\n",
    "files = []\n",
    "for file in os.listdir(path):\n",
    "    if file.endswith(\".pkl\") & file.startswith(\"dfTransformed_\"):\n",
    "        files.append(path+file)\n",
    "    else:\n",
    "        print(\"Ignored: %s\" %file)"
   ]
  },
  {
   "cell_type": "code",
   "execution_count": 14,
   "metadata": {},
   "outputs": [],
   "source": [
    "def doJob(f):\n",
    "    if \"dfTransformed\" not in f:\n",
    "        return None\n",
    "    \n",
    "    df_info = pd.DataFrame()\n",
    "    pid, phone, cond =  f.replace(\"_P\", \"_\").replace(\".pkl\", \"\").split(\"_\")[1:]\n",
    "    pid = int(pid)\n",
    "    if (cond == \"sitting\"):\n",
    "        cond = \"seated\"\n",
    "        \n",
    "    #print(\"Working on file: \" + f)\n",
    "    fileFirstTime = []\n",
    "    fileLastTime = []\n",
    "    task, firstTime, lastTime = concatDfsNew('P%i'%pid, phone, cond)\n",
    "    df = pd.read_pickle(f)\n",
    "    cols = []\n",
    "    for c in df.columns:\n",
    "        for replace in [\"S3:\", \"S3_\", \"S4:\", \"S4_\", \"OPO:\", \"OPO_\", \"N6:\", \"N6_\"]:\n",
    "            c = c.replace(replace, \"Phone\")\n",
    "        cols.append(c)\n",
    "    df.columns = cols\n",
    "\n",
    "    df[\"Phone\"] = phone\n",
    "    df[\"Condition\"] = cond\n",
    "    df[\"PId\"] = pid\n",
    "\n",
    "    df.Time = df.Time.astype(np.int64)\n",
    "    df_info[\"Participant\"] = [pid]\n",
    "    df_info[\"Phone\"] = [phone]\n",
    "    df_info[\"Cond\"] = [cond]\n",
    "    df_info[\"Tasks\"] = [task]\n",
    "    df_info[\"FirstTimes\"] = [firstTime]\n",
    "    df_info[\"LastTimes\"] = [lastTime]\n",
    "    \n",
    "    df[\"Task\"] = None\n",
    "    for i, (t, s, e) in enumerate(zip(task,firstTime,lastTime)):\n",
    "        df.loc[(df.Time>=s) & (df.Time<=e), 'Task'] = t\n",
    "        \n",
    "        if (len(df.loc[(df.Time>=s) & (df.Time<=e)]) == 0):\n",
    "            test = \", \".join([str(df.Time.min()), str(df.Time.max()), str(firstTime[i]), str(lastTime[i])])\n",
    "            print(\"ERROR:\", f, df.Time.min() > 1521936000000,i,  test)\n",
    "            \n",
    "    totalTime = (df[\"Time\"].iloc[-1] - df[\"Time\"].iloc[0])*0.001\n",
    "    df_info[\"ms_before\"] = (df[\"Time\"].iloc[-1] - df[\"Time\"].iloc[0])\n",
    "    #df_info[\"ms_after\"] = tasklength/0.001\n",
    "    df_info[\"Frames_before\"] = len(df)\n",
    "    #print(\"Frames before task cut : %s frames\"%(len(df)))\n",
    "    #print(\"Frames after task cut: %s - %s = %s\"%(len(df), df.isnull().sum()[\"Task\"], len(df)-df.isnull().sum()[\"Task\"]))\n",
    "    #print(\"Total Take length before cut in Minutes : %s min\"%(totalTime/60))\n",
    "    #print(\"Total Take length after cut in Minutes : %s min\"%(tasklength/60))\n",
    "    df = df.dropna(subset=['Task'])\n",
    "    if (len(df) >0):\n",
    "        df_info[\"Frames_after_t\"] = len(df)\n",
    "        #print(\"Frames after cleaning of takes = %s Frames\"%(len(df)))\n",
    "        cc = []\n",
    "        for c in df.columns:\n",
    "            if \"Fn\" in c:\n",
    "                cc.append(c)\n",
    "\n",
    "        x = df['PhoneX_Rotation']\n",
    "        y = df['PhoneY_Rotation']\n",
    "        z = df['PhoneZ_Rotation']\n",
    "        w = df['PhoneW_Rotation']\n",
    "\n",
    "        rot_matrix = np.array([\n",
    "            [1-2*y*y-2*z*z, 2*x*y+2*w*z, 2*x*z - 2*w*y],\n",
    "            [2*x*y - 2*w*z, 1-2*x*x-2*z*z, 2*y*z+2*w*x],\n",
    "            [2*x*z+2*w*y, 2*y*z-2*w*x, 1-2*x*x-2*y*y]])\n",
    "\n",
    "        df[\"Angle\"] = np.degrees(np.arccos(np.dot((rot_matrix[:,1,:].T), [0, 1, 0])))\n",
    "        #adf = pd.DataFrame(angle)\n",
    "        df = df[np.logical_not(df[\"Angle\"].isnull())]\n",
    "        df = df[df[\"Angle\"] < df[\"Angle\"].mean() + df[\"Angle\"].std()*2]\n",
    "\n",
    "        df_info[\"Frames_after\"] = len(df)\n",
    "        #print(\"Frames after cleaning of takes and rigid body errors = %s Frames\"%(len(df)))\n",
    "\n",
    "        for i in range (1,10):\n",
    "            df_info[\"Filter\"+str(i)] = len(df[cc].interpolate(limit=i).dropna(subset=cc))/len(df[cc])-len(df[cc].dropna(subset=cc))/len(df[cc])\n",
    "\n",
    "        helplist = []\n",
    "        for t in task:\n",
    "            help_df = df[df.Task == t].copy(deep = True)\n",
    "            for j in joints:\n",
    "                f=(help_df[\"%s_X\"%j]>help_df[\"%s_X\"%j].mean()-help_df[\"%s_X\"%j].std()*3)&\\\n",
    "                (help_df[\"%s_X\"%j]<help_df[\"%s_X\"%j].mean()+help_df[\"%s_X\"%j].std()*3)&\\\n",
    "                (help_df[\"%s_Y\"%j]>help_df[\"%s_Y\"%j].mean()-help_df[\"%s_Y\"%j].std()*3)&\\\n",
    "                (help_df[\"%s_Y\"%j]<help_df[\"%s_Y\"%j].mean()+help_df[\"%s_Y\"%j].std()*3)&\\\n",
    "                (help_df[\"%s_Z\"%j]>help_df[\"%s_Z\"%j].mean()-help_df[\"%s_Z\"%j].std()*3)&\\\n",
    "                (help_df[\"%s_Z\"%j]<help_df[\"%s_Z\"%j].mean()+help_df[\"%s_Z\"%j].std()*3)\n",
    "                help_df.loc[~f,[\"%s_X\"%j,\"%s_Y\"%j,\"%s_Z\"%j]] = np.nan\n",
    "            helplist.append(help_df)\n",
    "\n",
    "        df = pd.concat(helplist)\n",
    "\n",
    "        df = df.dropna(subset=cc)\n",
    "        #print(\"Frames after cleaning of fingers = %s Frames\"%(len(df)))\n",
    "        df_info[\"Frames_final\"] = len(df)\n",
    "        #print(\"Approx Take length after cut in ms : %s ms\"%(round(len(df)/0.24)))\n",
    "        df_info[\"ms_after_approx\"] = round(len(df)/0.24)\n",
    "        #df_info_real = df_info_real.append(df_info)\n",
    "        pickle_path = \"TransformedPickles/\"\n",
    "        pickle_name = 'P%i'%pid\n",
    "        pickle_path = pickle_path+pickle_name + (\"_%s_%s.pkl\"%(phone, cond))\n",
    "        df.to_pickle(pickle_path)\n",
    "    return df_info"
   ]
  },
  {
   "cell_type": "code",
   "execution_count": 15,
   "metadata": {
    "scrolled": false
   },
   "outputs": [
    {
     "name": "stderr",
     "output_type": "stream",
     "text": [
      "100%|██████████| 120/120 [00:33<00:00,  3.55it/s]\n"
     ]
    }
   ],
   "source": [
    "pool = multiprocessing.Pool(max(multiprocessing.cpu_count()-1, 1))\n",
    "ret = list(tqdm.tqdm(pool.imap_unordered(doJob, files), total=len(files)))"
   ]
  },
  {
   "cell_type": "code",
   "execution_count": 17,
   "metadata": {},
   "outputs": [],
   "source": [
    "df_info_real = pd.concat(ret)\n",
    "df_info_real[\"Percentage\"] = (df_info_real.Frames_final/df_info_real.Frames_after_t)\n",
    "df_info_real.to_csv(\"./out/info.csv\", sep=\";\")  "
   ]
  },
  {
   "cell_type": "code",
   "execution_count": null,
   "metadata": {},
   "outputs": [],
   "source": []
  }
 ],
 "metadata": {
  "kernelspec": {
   "display_name": "Python 3",
   "language": "python",
   "name": "python3"
  },
  "language_info": {
   "codemirror_mode": {
    "name": "ipython",
    "version": 3
   },
   "file_extension": ".py",
   "mimetype": "text/x-python",
   "name": "python",
   "nbconvert_exporter": "python",
   "pygments_lexer": "ipython3",
   "version": "3.6.8"
  }
 },
 "nbformat": 4,
 "nbformat_minor": 2
}
